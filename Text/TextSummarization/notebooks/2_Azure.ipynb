{
 "cells": [
  {
   "cell_type": "code",
   "execution_count": null,
   "metadata": {},
   "outputs": [],
   "source": [
    "import os\n",
    "from azure.core.credentials import AzureKeyCredential\n",
    "from azure.search.documents import SearchClient\n",
    "from IPython.display import Markdown, display\n",
    "from dotenv import load_dotenv\n",
    "\n",
    "load_dotenv(dotenv_path='.env')\n",
    "ACS_URL     = os.getenv(\"ACS_URL\")\n",
    "API_KEY     = os.getenv(\"SEARCH_API_KEY\")\n",
    "INDEX_NAME  = os.getenv(\"INDEX_NAME\")\n",
    "searchterm = \"$top=1\"\n",
    "\n",
    "def printmd(string):\n",
    "    display(Markdown(string))\n",
    "\n",
    "# Create a client\n",
    "credential = AzureKeyCredential(API_KEY)\n",
    "client = SearchClient(endpoint=ACS_URL,\n",
    "                      index_name=INDEX_NAME,\n",
    "                      credential=credential)\n",
    "\n",
    "results = client.search(search_text=searchterm, top=5)\n",
    "\n",
    "for i, result in enumerate(results):\n",
    "    print(f\"Document {i}\")\n",
    "    printmd(f\"***Locations***\")\n",
    "    print(result['location'])\n",
    "    printmd(f\"***Organizations***\")\n",
    "    print(result['organization'])\n",
    "    printmd(f\"***Persons***\")\n",
    "    print(result['person'])\n",
    "    printmd(f\"**Summary**\")\n",
    "    print(result['summary'])"
   ]
  }
 ],
 "metadata": {
  "interpreter": {
   "hash": "33f291de0fd92b8a6f9f38894d1e3345d92874d6adb2586114aeb76b419608b1"
  },
  "kernelspec": {
   "display_name": "Python 3.7.10 64-bit ('ipykernel_py3': conda)",
   "name": "python3"
  },
  "language_info": {
   "codemirror_mode": {
    "name": "ipython",
    "version": 3
   },
   "file_extension": ".py",
   "mimetype": "text/x-python",
   "name": "python",
   "nbconvert_exporter": "python",
   "pygments_lexer": "ipython3",
   "version": "3.7.10"
  },
  "orig_nbformat": 4
 },
 "nbformat": 4,
 "nbformat_minor": 2
}
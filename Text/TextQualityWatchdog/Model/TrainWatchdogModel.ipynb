{
  "cells": [
    {
      "cell_type": "markdown",
      "source": [
        "This notebook was tested on an NVIDIA Tesla K80 GPU, although we anticipate that similar hardware should also work.\r\n",
        "The ONNX inference runtime was tested on CPU and was optimized for memory consumption through quantization. If memory\r\n",
        "is not an issue, using BERT instead of DistilBERT and skipping the quantization step should lead to performance gains.\r\n",
        "Parts of this notebook are adapted from resources from ChrisMcCormickAI.\r\n",
        "\r\n",
        "The training data used to train this iteration of the text quality watchdog model was collected from CommonCrawl. The full\r\n",
        "dataset used to train the production model contains 18,000 text examples. The sample training dataset provided contains 100 text\r\n",
        "examples, and is intended solely for demonstrative purposes.\r\n",
        "\r\n",
        "Standard Python packages used: Pandas, Numpy, Tensorflow, Pytorch, Tokenizers, Transformers, Matplotlib, Seaborn, Scikit-learn, Onnx, Onnxruntime.<br>\r\n",
        "Modules from the Python Standard Library: re, time, datetime, random"
      ],
      "metadata": {
        "nteract": {
          "transient": {
            "deleting": false
          }
        }
      }
    },
    {
      "cell_type": "markdown",
      "source": [
        "**Load Training Data**"
      ],
      "metadata": {
        "nteract": {
          "transient": {
            "deleting": false
          }
        }
      }
    },
    {
      "cell_type": "code",
      "source": [
        "# The training dataset contains the following fields:\r\n",
        "#\r\n",
        "# text => the raw text extracted from each document during document cracking\r\n",
        "# score => the oov score assigned to each example, score range [0,1] indicates % of out-of-vocab words\r\n",
        "# filename => filename of original document for downstream data analysis\r\n",
        "\r\n",
        "import pandas as pd\r\n",
        "\r\n",
        "print('Parsing the dataset .tsv file')\r\n",
        "\r\n",
        "data = pd.read_csv('train_data_sample.tsv', sep='\\t')\r\n",
        "\r\n",
        "print('    Done.')"
      ],
      "outputs": [
        {
          "output_type": "stream",
          "name": "stdout",
          "text": [
            "Parsing the dataset .tsv file\n",
            "    Done.\n"
          ]
        }
      ],
      "execution_count": 1,
      "metadata": {
        "collapsed": true,
        "jupyter": {
          "source_hidden": false,
          "outputs_hidden": false
        },
        "nteract": {
          "transient": {
            "deleting": false
          }
        },
        "gather": {
          "logged": 1630052770309
        }
      }
    },
    {
      "cell_type": "markdown",
      "source": [
        "**Connect To Hardware Accelerator**"
      ],
      "metadata": {
        "nteract": {
          "transient": {
            "deleting": false
          }
        }
      }
    },
    {
      "cell_type": "code",
      "source": [
        "import tensorflow as tf\r\n",
        "\r\n",
        "# Get the GPU device name.\r\n",
        "device_name = tf.test.gpu_device_name()\r\n",
        "\r\n",
        "# The device name should look like the following:\r\n",
        "if device_name == '/device:GPU:0':\r\n",
        "    print('Found GPU at: {}'.format(device_name))\r\n",
        "else:\r\n",
        "    raise SystemError('GPU device not found')"
      ],
      "outputs": [
        {
          "output_type": "stream",
          "name": "stdout",
          "text": [
            "Found GPU at: /device:GPU:0\n"
          ]
        }
      ],
      "execution_count": 2,
      "metadata": {
        "collapsed": true,
        "jupyter": {
          "source_hidden": false,
          "outputs_hidden": false
        },
        "nteract": {
          "transient": {
            "deleting": false
          }
        },
        "gather": {
          "logged": 1630052772136
        }
      }
    },
    {
      "cell_type": "code",
      "source": [
        "import torch\r\n",
        "\r\n",
        "# If there's a GPU available...\r\n",
        "if torch.cuda.is_available():    \r\n",
        "\r\n",
        "    # Tell PyTorch to use the GPU.    \r\n",
        "    device = torch.device(\"cuda\")\r\n",
        "\r\n",
        "    print('There are %d GPU(s) available.' % torch.cuda.device_count())\r\n",
        "\r\n",
        "    print('We will use the GPU:', torch.cuda.get_device_name(0))\r\n",
        "\r\n",
        "# If not...\r\n",
        "else:\r\n",
        "    print('No GPU available, using the CPU instead.')\r\n",
        "    device = torch.device(\"cpu\")"
      ],
      "outputs": [
        {
          "output_type": "stream",
          "name": "stdout",
          "text": [
            "There are 1 GPU(s) available.\n",
            "We will use the GPU: NVIDIA Tesla K80\n"
          ]
        }
      ],
      "execution_count": 3,
      "metadata": {
        "collapsed": true,
        "jupyter": {
          "source_hidden": false,
          "outputs_hidden": false
        },
        "nteract": {
          "transient": {
            "deleting": false
          }
        },
        "gather": {
          "logged": 1630052772594
        }
      }
    },
    {
      "cell_type": "markdown",
      "source": [
        "**Preprocess Data**"
      ],
      "metadata": {
        "nteract": {
          "transient": {
            "deleting": false
          }
        }
      }
    },
    {
      "cell_type": "code",
      "source": [
        "from tokenizers import BertWordPieceTokenizer\r\n",
        "\r\n",
        "tokenizer = BertWordPieceTokenizer(\"./bert-base-uncased-vocab.txt\")\r\n",
        "tokenizer.enable_padding(pad_id=0, pad_token=\"[PAD]\", length=128)\r\n",
        "tokenizer.enable_truncation(max_length=128)"
      ],
      "outputs": [],
      "execution_count": 4,
      "metadata": {
        "collapsed": true,
        "jupyter": {
          "source_hidden": false,
          "outputs_hidden": false
        },
        "nteract": {
          "transient": {
            "deleting": false
          }
        },
        "gather": {
          "logged": 1630052772861
        }
      }
    },
    {
      "cell_type": "code",
      "source": [
        "import numpy as np\r\n",
        "import re\r\n",
        "\r\n",
        "# Tokenize text input and compute attention masks for each training example\r\n",
        "\r\n",
        "input_ids = []\r\n",
        "attention_masks = []\r\n",
        "\r\n",
        "for text_example in data.text:\r\n",
        "\r\n",
        "    # Explicitly truncate text to 128 whitespace-separated tokens\r\n",
        "    space_idx = [space.start() for space in re.finditer(' ', text_example)]\r\n",
        "    if len(space_idx) >= 128:\r\n",
        "        end_idx = space_idx[127]\r\n",
        "        text_example = (text_example[:end_idx])\r\n",
        "\r\n",
        "    encoding = tokenizer.encode(text_example)\r\n",
        "\r\n",
        "    input_ids.append(encoding.ids)\r\n",
        "    attention_masks.append(encoding.attention_mask)"
      ],
      "outputs": [],
      "execution_count": 5,
      "metadata": {
        "collapsed": true,
        "jupyter": {
          "source_hidden": false,
          "outputs_hidden": false
        },
        "nteract": {
          "transient": {
            "deleting": false
          }
        },
        "gather": {
          "logged": 1630052773248
        }
      }
    },
    {
      "cell_type": "code",
      "source": [
        "# Collect training labels\r\n",
        "\r\n",
        "labels = data.score.values\r\n",
        "labels = [1 if score > 0.8 else 0 for score in labels]  # binarize the labels with classification threshold of 0.8"
      ],
      "outputs": [],
      "execution_count": 6,
      "metadata": {
        "collapsed": true,
        "jupyter": {
          "source_hidden": false,
          "outputs_hidden": false
        },
        "nteract": {
          "transient": {
            "deleting": false
          }
        },
        "gather": {
          "logged": 1630052773662
        }
      }
    },
    {
      "cell_type": "code",
      "source": [
        "# Use train_test_split to split our data into train and validation sets for training\r\n",
        "from sklearn.model_selection import train_test_split\r\n",
        "\r\n",
        "# Use 90% for training and 10% for validation.\r\n",
        "train_inputs, validation_inputs, train_labels, validation_labels = train_test_split(input_ids, labels, \r\n",
        "                                                            random_state=2018, test_size=0.1)\r\n",
        "# Do the same for the masks.\r\n",
        "train_masks, validation_masks, _, _ = train_test_split(attention_masks, labels,\r\n",
        "                                             random_state=2018, test_size=0.1)"
      ],
      "outputs": [],
      "execution_count": 7,
      "metadata": {
        "collapsed": true,
        "jupyter": {
          "source_hidden": false,
          "outputs_hidden": false
        },
        "nteract": {
          "transient": {
            "deleting": false
          }
        },
        "gather": {
          "logged": 1630052774338
        }
      }
    },
    {
      "cell_type": "code",
      "source": [
        "# Convert all inputs and labels into torch tensors, the required datatype \r\n",
        "# for our model.\r\n",
        "train_inputs = torch.tensor(train_inputs)\r\n",
        "validation_inputs = torch.tensor(validation_inputs)\r\n",
        "\r\n",
        "train_labels = torch.tensor(train_labels)\r\n",
        "validation_labels = torch.tensor(validation_labels)\r\n",
        "\r\n",
        "train_masks = torch.tensor(train_masks)\r\n",
        "validation_masks = torch.tensor(validation_masks)"
      ],
      "outputs": [],
      "execution_count": 8,
      "metadata": {
        "collapsed": true,
        "jupyter": {
          "source_hidden": false,
          "outputs_hidden": false
        },
        "nteract": {
          "transient": {
            "deleting": false
          }
        },
        "gather": {
          "logged": 1630052774546
        }
      }
    },
    {
      "cell_type": "code",
      "source": [
        "from torch.utils.data import TensorDataset, DataLoader, RandomSampler, SequentialSampler\r\n",
        "\r\n",
        "# The DataLoader needs to know our batch size for training, so we specify it \r\n",
        "# here.\r\n",
        "# For fine-tuning BERT on a specific task, the authors recommend a batch size of\r\n",
        "# 16 or 32.\r\n",
        "\r\n",
        "batch_size = 32\r\n",
        "\r\n",
        "# Create the DataLoader for our training set.\r\n",
        "train_data = TensorDataset(train_inputs, train_masks, train_labels)\r\n",
        "train_sampler = RandomSampler(train_data)\r\n",
        "train_dataloader = DataLoader(train_data, sampler=train_sampler, batch_size=batch_size)\r\n",
        "\r\n",
        "# Create the DataLoader for our validation set.\r\n",
        "validation_data = TensorDataset(validation_inputs, validation_masks, validation_labels)\r\n",
        "validation_sampler = SequentialSampler(validation_data)\r\n",
        "validation_dataloader = DataLoader(validation_data, sampler=validation_sampler, batch_size=batch_size)\r\n"
      ],
      "outputs": [],
      "execution_count": 9,
      "metadata": {
        "collapsed": true,
        "jupyter": {
          "source_hidden": false,
          "outputs_hidden": false
        },
        "nteract": {
          "transient": {
            "deleting": false
          }
        },
        "gather": {
          "logged": 1630052774833
        }
      }
    },
    {
      "cell_type": "markdown",
      "source": [
        "**Initialize Model**"
      ],
      "metadata": {
        "nteract": {
          "transient": {
            "deleting": false
          }
        }
      }
    },
    {
      "cell_type": "code",
      "source": [
        "from transformers import DistilBertForSequenceClassification, AdamW, DistilBertConfig, DistilBertModel\r\n",
        "\r\n",
        "# Load DistilBertForSequenceClassification, the pretrained DistilBERT model with a single \r\n",
        "# linear classification layer on top. \r\n",
        "model = DistilBertForSequenceClassification.from_pretrained(\r\n",
        "    \"distilbert-base-uncased\", # Use the 12-layer DistilBERT model, with an uncased vocab.\r\n",
        "    num_labels = 2, # The number of output labels--2 for binary classification. \r\n",
        "    output_attentions = False, # Whether the model returns attentions weights.\r\n",
        "    output_hidden_states = False, # Whether the model returns all hidden-states.\r\n",
        ")\r\n",
        "\r\n",
        "# Tell pytorch to run this model on the GPU.\r\n",
        "model.cuda()"
      ],
      "outputs": [
        {
          "output_type": "stream",
          "name": "stderr",
          "text": [
            "Some weights of the model checkpoint at distilbert-base-uncased were not used when initializing DistilBertForSequenceClassification: ['vocab_transform.weight', 'vocab_transform.bias', 'vocab_layer_norm.weight', 'vocab_layer_norm.bias', 'vocab_projector.weight', 'vocab_projector.bias']\n",
            "- This IS expected if you are initializing DistilBertForSequenceClassification from the checkpoint of a model trained on another task or with another architecture (e.g. initializing a BertForSequenceClassification model from a BertForPreTraining model).\n",
            "- This IS NOT expected if you are initializing DistilBertForSequenceClassification from the checkpoint of a model that you expect to be exactly identical (initializing a BertForSequenceClassification model from a BertForSequenceClassification model).\n",
            "Some weights of DistilBertForSequenceClassification were not initialized from the model checkpoint at distilbert-base-uncased and are newly initialized: ['pre_classifier.weight', 'pre_classifier.bias', 'classifier.weight', 'classifier.bias']\n",
            "You should probably TRAIN this model on a down-stream task to be able to use it for predictions and inference.\n"
          ]
        },
        {
          "output_type": "execute_result",
          "execution_count": 10,
          "data": {
            "text/plain": "DistilBertForSequenceClassification(\n  (distilbert): DistilBertModel(\n    (embeddings): Embeddings(\n      (word_embeddings): Embedding(30522, 768, padding_idx=0)\n      (position_embeddings): Embedding(512, 768)\n      (LayerNorm): LayerNorm((768,), eps=1e-12, elementwise_affine=True)\n      (dropout): Dropout(p=0.1, inplace=False)\n    )\n    (transformer): Transformer(\n      (layer): ModuleList(\n        (0): TransformerBlock(\n          (attention): MultiHeadSelfAttention(\n            (dropout): Dropout(p=0.1, inplace=False)\n            (q_lin): Linear(in_features=768, out_features=768, bias=True)\n            (k_lin): Linear(in_features=768, out_features=768, bias=True)\n            (v_lin): Linear(in_features=768, out_features=768, bias=True)\n            (out_lin): Linear(in_features=768, out_features=768, bias=True)\n          )\n          (sa_layer_norm): LayerNorm((768,), eps=1e-12, elementwise_affine=True)\n          (ffn): FFN(\n            (dropout): Dropout(p=0.1, inplace=False)\n            (lin1): Linear(in_features=768, out_features=3072, bias=True)\n            (lin2): Linear(in_features=3072, out_features=768, bias=True)\n          )\n          (output_layer_norm): LayerNorm((768,), eps=1e-12, elementwise_affine=True)\n        )\n        (1): TransformerBlock(\n          (attention): MultiHeadSelfAttention(\n            (dropout): Dropout(p=0.1, inplace=False)\n            (q_lin): Linear(in_features=768, out_features=768, bias=True)\n            (k_lin): Linear(in_features=768, out_features=768, bias=True)\n            (v_lin): Linear(in_features=768, out_features=768, bias=True)\n            (out_lin): Linear(in_features=768, out_features=768, bias=True)\n          )\n          (sa_layer_norm): LayerNorm((768,), eps=1e-12, elementwise_affine=True)\n          (ffn): FFN(\n            (dropout): Dropout(p=0.1, inplace=False)\n            (lin1): Linear(in_features=768, out_features=3072, bias=True)\n            (lin2): Linear(in_features=3072, out_features=768, bias=True)\n          )\n          (output_layer_norm): LayerNorm((768,), eps=1e-12, elementwise_affine=True)\n        )\n        (2): TransformerBlock(\n          (attention): MultiHeadSelfAttention(\n            (dropout): Dropout(p=0.1, inplace=False)\n            (q_lin): Linear(in_features=768, out_features=768, bias=True)\n            (k_lin): Linear(in_features=768, out_features=768, bias=True)\n            (v_lin): Linear(in_features=768, out_features=768, bias=True)\n            (out_lin): Linear(in_features=768, out_features=768, bias=True)\n          )\n          (sa_layer_norm): LayerNorm((768,), eps=1e-12, elementwise_affine=True)\n          (ffn): FFN(\n            (dropout): Dropout(p=0.1, inplace=False)\n            (lin1): Linear(in_features=768, out_features=3072, bias=True)\n            (lin2): Linear(in_features=3072, out_features=768, bias=True)\n          )\n          (output_layer_norm): LayerNorm((768,), eps=1e-12, elementwise_affine=True)\n        )\n        (3): TransformerBlock(\n          (attention): MultiHeadSelfAttention(\n            (dropout): Dropout(p=0.1, inplace=False)\n            (q_lin): Linear(in_features=768, out_features=768, bias=True)\n            (k_lin): Linear(in_features=768, out_features=768, bias=True)\n            (v_lin): Linear(in_features=768, out_features=768, bias=True)\n            (out_lin): Linear(in_features=768, out_features=768, bias=True)\n          )\n          (sa_layer_norm): LayerNorm((768,), eps=1e-12, elementwise_affine=True)\n          (ffn): FFN(\n            (dropout): Dropout(p=0.1, inplace=False)\n            (lin1): Linear(in_features=768, out_features=3072, bias=True)\n            (lin2): Linear(in_features=3072, out_features=768, bias=True)\n          )\n          (output_layer_norm): LayerNorm((768,), eps=1e-12, elementwise_affine=True)\n        )\n        (4): TransformerBlock(\n          (attention): MultiHeadSelfAttention(\n            (dropout): Dropout(p=0.1, inplace=False)\n            (q_lin): Linear(in_features=768, out_features=768, bias=True)\n            (k_lin): Linear(in_features=768, out_features=768, bias=True)\n            (v_lin): Linear(in_features=768, out_features=768, bias=True)\n            (out_lin): Linear(in_features=768, out_features=768, bias=True)\n          )\n          (sa_layer_norm): LayerNorm((768,), eps=1e-12, elementwise_affine=True)\n          (ffn): FFN(\n            (dropout): Dropout(p=0.1, inplace=False)\n            (lin1): Linear(in_features=768, out_features=3072, bias=True)\n            (lin2): Linear(in_features=3072, out_features=768, bias=True)\n          )\n          (output_layer_norm): LayerNorm((768,), eps=1e-12, elementwise_affine=True)\n        )\n        (5): TransformerBlock(\n          (attention): MultiHeadSelfAttention(\n            (dropout): Dropout(p=0.1, inplace=False)\n            (q_lin): Linear(in_features=768, out_features=768, bias=True)\n            (k_lin): Linear(in_features=768, out_features=768, bias=True)\n            (v_lin): Linear(in_features=768, out_features=768, bias=True)\n            (out_lin): Linear(in_features=768, out_features=768, bias=True)\n          )\n          (sa_layer_norm): LayerNorm((768,), eps=1e-12, elementwise_affine=True)\n          (ffn): FFN(\n            (dropout): Dropout(p=0.1, inplace=False)\n            (lin1): Linear(in_features=768, out_features=3072, bias=True)\n            (lin2): Linear(in_features=3072, out_features=768, bias=True)\n          )\n          (output_layer_norm): LayerNorm((768,), eps=1e-12, elementwise_affine=True)\n        )\n      )\n    )\n  )\n  (pre_classifier): Linear(in_features=768, out_features=768, bias=True)\n  (classifier): Linear(in_features=768, out_features=2, bias=True)\n  (dropout): Dropout(p=0.2, inplace=False)\n)"
          },
          "metadata": {}
        }
      ],
      "execution_count": 10,
      "metadata": {
        "collapsed": true,
        "jupyter": {
          "source_hidden": false,
          "outputs_hidden": false
        },
        "nteract": {
          "transient": {
            "deleting": false
          }
        },
        "gather": {
          "logged": 1630052778230
        }
      }
    },
    {
      "cell_type": "code",
      "source": [
        "# Note: AdamW is a class from the huggingface library (as opposed to pytorch) \r\n",
        "optimizer = AdamW(model.parameters(),\r\n",
        "                  lr = 2e-5, # args.learning_rate - default is 5e-5.\r\n",
        "                  eps = 1e-8 # args.adam_epsilon  - default is 1e-8.\r\n",
        "                )"
      ],
      "outputs": [],
      "execution_count": 11,
      "metadata": {
        "collapsed": true,
        "jupyter": {
          "source_hidden": false,
          "outputs_hidden": false
        },
        "nteract": {
          "transient": {
            "deleting": false
          }
        },
        "gather": {
          "logged": 1630052778628
        }
      }
    },
    {
      "cell_type": "code",
      "source": [
        "from transformers import get_linear_schedule_with_warmup\r\n",
        "\r\n",
        "# Number of training epochs (authors recommend between 2 and 4)\r\n",
        "epochs = 4\r\n",
        "\r\n",
        "# Total number of training steps is number of batches * number of epochs.\r\n",
        "total_steps = len(train_dataloader) * epochs\r\n",
        "\r\n",
        "# Create the learning rate scheduler.\r\n",
        "scheduler = get_linear_schedule_with_warmup(optimizer, \r\n",
        "                                            num_warmup_steps = 0,\r\n",
        "                                            num_training_steps = total_steps)"
      ],
      "outputs": [],
      "execution_count": 12,
      "metadata": {
        "collapsed": true,
        "jupyter": {
          "source_hidden": false,
          "outputs_hidden": false
        },
        "nteract": {
          "transient": {
            "deleting": false
          }
        },
        "gather": {
          "logged": 1630052778817
        }
      }
    },
    {
      "cell_type": "markdown",
      "source": [
        "**Evaluation Utility Functions**"
      ],
      "metadata": {
        "nteract": {
          "transient": {
            "deleting": false
          }
        }
      }
    },
    {
      "cell_type": "code",
      "source": [
        "# Function to calculate the accuracy of our predictions vs labels\r\n",
        "def flat_accuracy(preds, labels):\r\n",
        "    pred_flat = np.argmax(preds, axis=1).flatten()\r\n",
        "    labels_flat = labels.flatten()\r\n",
        "    return np.sum(pred_flat == labels_flat) / len(labels_flat)"
      ],
      "outputs": [],
      "execution_count": 13,
      "metadata": {
        "collapsed": true,
        "jupyter": {
          "source_hidden": false,
          "outputs_hidden": false
        },
        "nteract": {
          "transient": {
            "deleting": false
          }
        },
        "gather": {
          "logged": 1630052779002
        }
      }
    },
    {
      "cell_type": "code",
      "source": [
        "import time\r\n",
        "import datetime\r\n",
        "\r\n",
        "def format_time(elapsed):\r\n",
        "    '''\r\n",
        "    Takes a time in seconds and returns a string hh:mm:ss\r\n",
        "    '''\r\n",
        "    # Round to the nearest second.\r\n",
        "    elapsed_rounded = int(round((elapsed)))\r\n",
        "    \r\n",
        "    # Format as hh:mm:ss\r\n",
        "    return str(datetime.timedelta(seconds=elapsed_rounded))\r\n"
      ],
      "outputs": [],
      "execution_count": 14,
      "metadata": {
        "collapsed": true,
        "jupyter": {
          "source_hidden": false,
          "outputs_hidden": false
        },
        "nteract": {
          "transient": {
            "deleting": false
          }
        },
        "gather": {
          "logged": 1630052779267
        }
      }
    },
    {
      "cell_type": "markdown",
      "source": [
        "**Train Model**"
      ],
      "metadata": {
        "nteract": {
          "transient": {
            "deleting": false
          }
        }
      }
    },
    {
      "cell_type": "code",
      "source": [
        "import random\r\n",
        "\r\n",
        "# This training code is based on the `run_glue.py` script here:\r\n",
        "# https://github.com/huggingface/transformers/blob/5bfcd0485ece086ebcbed2d008813037968a9e58/examples/run_glue.py#L128\r\n",
        "\r\n",
        "\r\n",
        "# Set the seed value all over the place to make this reproducible.\r\n",
        "seed_val = 42\r\n",
        "\r\n",
        "random.seed(seed_val)\r\n",
        "np.random.seed(seed_val)\r\n",
        "torch.manual_seed(seed_val)\r\n",
        "torch.cuda.manual_seed_all(seed_val)\r\n",
        "\r\n",
        "# Store the average loss after each epoch so we can plot them.\r\n",
        "loss_values = []\r\n",
        "\r\n",
        "# For each epoch...\r\n",
        "for epoch_i in range(0, epochs):\r\n",
        "    \r\n",
        "    # ========================================\r\n",
        "    #               Training\r\n",
        "    # ========================================\r\n",
        "    \r\n",
        "    # Perform one full pass over the training set.\r\n",
        "\r\n",
        "    print(\"\")\r\n",
        "    print('======== Epoch {:} / {:} ========'.format(epoch_i + 1, epochs))\r\n",
        "    print('Training...')\r\n",
        "\r\n",
        "    # Measure how long the training epoch takes.\r\n",
        "    t0 = time.time()\r\n",
        "\r\n",
        "    # Reset the total loss for this epoch.\r\n",
        "    total_loss = 0\r\n",
        "\r\n",
        "    # Put the model into training mode. Don't be mislead--the call to \r\n",
        "    # `train` just changes the *mode*, it doesn't *perform* the training.\r\n",
        "    # `dropout` and `batchnorm` layers behave differently during training\r\n",
        "    # vs. test (source: https://stackoverflow.com/questions/51433378/what-does-model-train-do-in-pytorch)\r\n",
        "    model.train()\r\n",
        "\r\n",
        "    # For each batch of training data...\r\n",
        "    for step, batch in enumerate(train_dataloader):\r\n",
        "\r\n",
        "        # Progress update every 40 batches.\r\n",
        "        if step % 40 == 0 and not step == 0:\r\n",
        "            # Calculate elapsed time in minutes.\r\n",
        "            elapsed = format_time(time.time() - t0)\r\n",
        "            \r\n",
        "            # Report progress.\r\n",
        "            print('  Batch {:>5,}  of  {:>5,}.    Elapsed: {:}.'.format(step, len(train_dataloader), elapsed))\r\n",
        "\r\n",
        "        # Unpack this training batch from our dataloader. \r\n",
        "        #\r\n",
        "        # As we unpack the batch, we'll also copy each tensor to the GPU using the \r\n",
        "        # `to` method.\r\n",
        "        #\r\n",
        "        # `batch` contains three pytorch tensors:\r\n",
        "        #   [0]: input ids \r\n",
        "        #   [1]: attention masks\r\n",
        "        #   [2]: labels \r\n",
        "        b_input_ids = batch[0].to(device)\r\n",
        "        b_input_mask = batch[1].to(device)\r\n",
        "        b_labels = batch[2].to(device)\r\n",
        "\r\n",
        "        # Always clear any previously calculated gradients before performing a\r\n",
        "        # backward pass. PyTorch doesn't do this automatically because \r\n",
        "        # accumulating the gradients is \"convenient while training RNNs\". \r\n",
        "        # (source: https://stackoverflow.com/questions/48001598/why-do-we-need-to-call-zero-grad-in-pytorch)\r\n",
        "        model.zero_grad()        \r\n",
        "\r\n",
        "        # Perform a forward pass (evaluate the model on this training batch).\r\n",
        "        # This will return the loss (rather than the model output) because we\r\n",
        "        # have provided the `labels`.\r\n",
        "        # The documentation for this `model` function is here: \r\n",
        "        # https://huggingface.co/transformers/v2.2.0/model_doc/bert.html#transformers.BertForSequenceClassification\r\n",
        "        outputs = model(b_input_ids, \r\n",
        "                    attention_mask=b_input_mask, \r\n",
        "                    labels=b_labels)\r\n",
        "        \r\n",
        "        # The call to `model` always returns a tuple, so we need to pull the \r\n",
        "        # loss value out of the tuple.\r\n",
        "        loss = outputs[0]\r\n",
        "\r\n",
        "        # Accumulate the training loss over all of the batches so that we can\r\n",
        "        # calculate the average loss at the end. `loss` is a Tensor containing a\r\n",
        "        # single value; the `.item()` function just returns the Python value \r\n",
        "        # from the tensor.\r\n",
        "        total_loss += loss.item()\r\n",
        "\r\n",
        "        # Perform a backward pass to calculate the gradients.\r\n",
        "        loss.backward()\r\n",
        "\r\n",
        "        # Clip the norm of the gradients to 1.0.\r\n",
        "        # This is to help prevent the \"exploding gradients\" problem.\r\n",
        "        torch.nn.utils.clip_grad_norm_(model.parameters(), 1.0)\r\n",
        "\r\n",
        "        # Update parameters and take a step using the computed gradient.\r\n",
        "        # The optimizer dictates the \"update rule\"--how the parameters are\r\n",
        "        # modified based on their gradients, the learning rate, etc.\r\n",
        "        optimizer.step()\r\n",
        "\r\n",
        "        # Update the learning rate.\r\n",
        "        scheduler.step()\r\n",
        "\r\n",
        "    # Calculate the average loss over the training data.\r\n",
        "    avg_train_loss = total_loss / len(train_dataloader)            \r\n",
        "    \r\n",
        "    # Store the loss value for plotting the learning curve.\r\n",
        "    loss_values.append(avg_train_loss)\r\n",
        "\r\n",
        "    print(\"\")\r\n",
        "    print(\"  Average training loss: {0:.2f}\".format(avg_train_loss))\r\n",
        "    print(\"  Training epoch took: {:}\".format(format_time(time.time() - t0)))\r\n",
        "        \r\n",
        "    # ========================================\r\n",
        "    #               Validation\r\n",
        "    # ========================================\r\n",
        "    # After the completion of each training epoch, measure our performance on\r\n",
        "    # our validation set.\r\n",
        "\r\n",
        "    print(\"\")\r\n",
        "    print(\"Running Validation...\")\r\n",
        "\r\n",
        "    t0 = time.time()\r\n",
        "\r\n",
        "    # Put the model in evaluation mode--the dropout layers behave differently\r\n",
        "    # during evaluation.\r\n",
        "    model.eval()\r\n",
        "\r\n",
        "    # Tracking variables \r\n",
        "    eval_loss, eval_accuracy = 0, 0\r\n",
        "    nb_eval_steps, nb_eval_examples = 0, 0\r\n",
        "\r\n",
        "    # Evaluate data for one epoch\r\n",
        "    for batch in validation_dataloader:\r\n",
        "        \r\n",
        "        # Add batch to GPU\r\n",
        "        batch = tuple(t.to(device) for t in batch)\r\n",
        "        \r\n",
        "        # Unpack the inputs from our dataloader\r\n",
        "        b_input_ids, b_input_mask, b_labels = batch\r\n",
        "        \r\n",
        "        # Telling the model not to compute or store gradients, saving memory and\r\n",
        "        # speeding up validation\r\n",
        "        with torch.no_grad():        \r\n",
        "\r\n",
        "            # Forward pass, calculate logit predictions.\r\n",
        "            # This will return the logits rather than the loss because we have\r\n",
        "            # not provided labels.\r\n",
        "            # token_type_ids is the same as the \"segment ids\", which \r\n",
        "            # differentiates sentence 1 and 2 in 2-sentence tasks.\r\n",
        "            # The documentation for this `model` function is here: \r\n",
        "            # https://huggingface.co/transformers/v2.2.0/model_doc/bert.html#transformers.BertForSequenceClassification\r\n",
        "            outputs = model(b_input_ids, \r\n",
        "                            attention_mask=b_input_mask)\r\n",
        "        \r\n",
        "        # Get the \"logits\" output by the model. The \"logits\" are the output\r\n",
        "        # values prior to applying an activation function like the softmax.\r\n",
        "        logits = outputs[0]\r\n",
        "\r\n",
        "        # Move logits and labels to CPU\r\n",
        "        logits = logits.detach().cpu().numpy()\r\n",
        "        label_ids = b_labels.to('cpu').numpy()\r\n",
        "        \r\n",
        "        # Calculate the accuracy for this batch of test sentences.\r\n",
        "        tmp_eval_accuracy = flat_accuracy(logits, label_ids)\r\n",
        "\r\n",
        "        # Accumulate the total accuracy.\r\n",
        "        eval_accuracy += tmp_eval_accuracy\r\n",
        "\r\n",
        "        # Track the number of batches\r\n",
        "        nb_eval_steps += 1\r\n",
        "\r\n",
        "    # Report the final accuracy for this validation run.\r\n",
        "    print(\"  Accuracy: {0:.2f}\".format(eval_accuracy/nb_eval_steps))\r\n",
        "    print(\"  Validation took: {:}\".format(format_time(time.time() - t0)))\r\n",
        "\r\n",
        "print(\"\")\r\n",
        "print(\"Training complete!\")"
      ],
      "outputs": [
        {
          "output_type": "stream",
          "name": "stdout",
          "text": [
            "\n",
            "======== Epoch 1 / 4 ========\n",
            "Training...\n",
            "\n",
            "  Average training loss: 0.68\n",
            "  Training epoch took: 0:00:02\n",
            "\n",
            "Running Validation...\n",
            "  Accuracy: 0.70\n",
            "  Validation took: 0:00:00\n",
            "\n",
            "======== Epoch 2 / 4 ========\n",
            "Training...\n",
            "\n",
            "  Average training loss: 0.60\n",
            "  Training epoch took: 0:00:02\n",
            "\n",
            "Running Validation...\n",
            "  Accuracy: 0.90\n",
            "  Validation took: 0:00:00\n",
            "\n",
            "======== Epoch 3 / 4 ========\n",
            "Training...\n",
            "\n",
            "  Average training loss: 0.55\n",
            "  Training epoch took: 0:00:02\n",
            "\n",
            "Running Validation...\n",
            "  Accuracy: 1.00\n",
            "  Validation took: 0:00:00\n",
            "\n",
            "======== Epoch 4 / 4 ========\n",
            "Training...\n",
            "\n",
            "  Average training loss: 0.52\n",
            "  Training epoch took: 0:00:02\n",
            "\n",
            "Running Validation...\n",
            "  Accuracy: 1.00\n",
            "  Validation took: 0:00:00\n",
            "\n",
            "Training complete!\n"
          ]
        }
      ],
      "execution_count": 15,
      "metadata": {
        "collapsed": true,
        "jupyter": {
          "source_hidden": false,
          "outputs_hidden": false
        },
        "nteract": {
          "transient": {
            "deleting": false
          }
        },
        "gather": {
          "logged": 1630052786145
        }
      }
    },
    {
      "cell_type": "markdown",
      "source": [
        "**Evaluate Model**"
      ],
      "metadata": {
        "nteract": {
          "transient": {
            "deleting": false
          }
        }
      }
    },
    {
      "cell_type": "code",
      "source": [
        "# If following this notebook cell-for-cell, the observed decrease in the loss function will be lower than\r\n",
        "# that of the production model due to the small size of the sample training dataset used for demo purposes.\r\n",
        "\r\n",
        "import matplotlib.pyplot as plt\r\n",
        "import seaborn as sns\r\n",
        "\r\n",
        "# Use plot styling from seaborn.\r\n",
        "sns.set(style='darkgrid')\r\n",
        "\r\n",
        "# Increase the plot size and font size.\r\n",
        "sns.set(font_scale=1.5)\r\n",
        "plt.rcParams[\"figure.figsize\"] = (12,6)\r\n",
        "\r\n",
        "# Plot the learning curve.\r\n",
        "plt.plot(loss_values, 'b-o')\r\n",
        "\r\n",
        "# Label the plot.\r\n",
        "plt.title(\"Training loss\")\r\n",
        "plt.xlabel(\"Epoch\")\r\n",
        "plt.ylabel(\"Loss\")\r\n",
        "\r\n",
        "plt.show()"
      ],
      "outputs": [
        {
          "output_type": "display_data",
          "data": {
            "text/plain": "<Figure size 864x432 with 1 Axes>",
            "image/png": "[encoded data removed]"
          },
          "metadata": {}
        }
      ],
      "execution_count": 16,
      "metadata": {
        "collapsed": true,
        "jupyter": {
          "source_hidden": false,
          "outputs_hidden": false
        },
        "nteract": {
          "transient": {
            "deleting": false
          }
        },
        "gather": {
          "logged": 1630052786552
        }
      }
    },
    {
      "cell_type": "code",
      "source": [
        "# Prediction on validation set\r\n",
        "\r\n",
        "print('Predicting labels for {:,} test sentences...'.format(len(validation_inputs)))\r\n",
        "\r\n",
        "# Put model in evaluation mode\r\n",
        "model.eval()\r\n",
        "\r\n",
        "# Tracking variables \r\n",
        "predictions , true_labels = [], []\r\n",
        "\r\n",
        "# Predict \r\n",
        "for batch in validation_dataloader:\r\n",
        "  # Add batch to GPU\r\n",
        "  batch = tuple(t.to(device) for t in batch)\r\n",
        "  \r\n",
        "  # Unpack the inputs from our dataloader\r\n",
        "  b_input_ids, b_input_mask, b_labels = batch\r\n",
        "  \r\n",
        "  # Telling the model not to compute or store gradients, saving memory and \r\n",
        "  # speeding up prediction\r\n",
        "  with torch.no_grad():\r\n",
        "      # Forward pass, calculate logit predictions\r\n",
        "      outputs = model(b_input_ids,\r\n",
        "                      attention_mask=b_input_mask)\r\n",
        "\r\n",
        "  logits = outputs[0]\r\n",
        "\r\n",
        "  # Move logits and labels to CPU\r\n",
        "  logits = logits.detach().cpu().numpy()\r\n",
        "  label_ids = b_labels.to('cpu').numpy()\r\n",
        "  \r\n",
        "  # Store predictions and true labels\r\n",
        "  predictions.append(logits)\r\n",
        "  true_labels.append(label_ids)\r\n",
        "\r\n",
        "print('    DONE.')"
      ],
      "outputs": [
        {
          "output_type": "stream",
          "name": "stdout",
          "text": [
            "Predicting labels for 10 test sentences...\n",
            "    DONE.\n"
          ]
        }
      ],
      "execution_count": 17,
      "metadata": {
        "collapsed": true,
        "jupyter": {
          "source_hidden": false,
          "outputs_hidden": false
        },
        "nteract": {
          "transient": {
            "deleting": false
          }
        },
        "gather": {
          "logged": 1630052787130
        }
      }
    },
    {
      "cell_type": "code",
      "source": [
        "from sklearn.metrics import matthews_corrcoef\r\n",
        "\r\n",
        "matthews_set = []\r\n",
        "\r\n",
        "# Evaluate each test batch using Matthew's correlation coefficient\r\n",
        "print('Calculating Matthews Corr. Coef. for each batch...')\r\n",
        "\r\n",
        "# For each input batch...\r\n",
        "for i in range(len(true_labels)):\r\n",
        "  \r\n",
        "  # The predictions for this batch are a 2-column ndarray (one column for \"0\" \r\n",
        "  # and one column for \"1\"). Pick the label with the highest value and turn this\r\n",
        "  # in to a list of 0s and 1s.\r\n",
        "  pred_labels_i = np.argmax(predictions[i], axis=1).flatten()\r\n",
        "  \r\n",
        "  # Calculate and store the coef for this batch.  \r\n",
        "  matthews = matthews_corrcoef(true_labels[i], pred_labels_i)                \r\n",
        "  matthews_set.append(matthews)"
      ],
      "outputs": [
        {
          "output_type": "stream",
          "name": "stdout",
          "text": [
            "Calculating Matthews Corr. Coef. for each batch...\n"
          ]
        }
      ],
      "execution_count": 18,
      "metadata": {
        "collapsed": true,
        "jupyter": {
          "source_hidden": false,
          "outputs_hidden": false
        },
        "nteract": {
          "transient": {
            "deleting": false
          }
        },
        "gather": {
          "logged": 1630052787332
        }
      }
    },
    {
      "cell_type": "code",
      "source": [
        "# If following this notebook cell-for-cell, the observed predictive performance will be different than\r\n",
        "# that of the production model due to the small size of the sample training dataset used for demo purposes.\r\n",
        "#\r\n",
        "# At this cell, the production Pytorch model achieves 0.932 MCC\r\n",
        "\r\n",
        "# Combine the predictions for each batch into a single list of 0s and 1s.\r\n",
        "flat_predictions = [item for sublist in predictions for item in sublist]\r\n",
        "flat_predictions = np.argmax(flat_predictions, axis=1).flatten()\r\n",
        "\r\n",
        "# Combine the correct labels for each batch into a single list.\r\n",
        "flat_true_labels = [item for sublist in true_labels for item in sublist]\r\n",
        "\r\n",
        "# Calculate the MCC\r\n",
        "mcc = matthews_corrcoef(flat_true_labels, flat_predictions)\r\n",
        "\r\n",
        "print('MCC: %.3f' % mcc)"
      ],
      "outputs": [
        {
          "output_type": "stream",
          "name": "stdout",
          "text": [
            "MCC: 1.000\n"
          ]
        }
      ],
      "execution_count": 19,
      "metadata": {
        "collapsed": true,
        "jupyter": {
          "source_hidden": false,
          "outputs_hidden": false
        },
        "nteract": {
          "transient": {
            "deleting": false
          }
        },
        "gather": {
          "logged": 1630052787518
        }
      }
    },
    {
      "cell_type": "code",
      "source": [
        "# Save Pytorch model\r\n",
        "torch.save(model, './watchdog_model_demo.pt')"
      ],
      "outputs": [],
      "execution_count": 20,
      "metadata": {
        "collapsed": true,
        "jupyter": {
          "source_hidden": false,
          "outputs_hidden": false
        },
        "nteract": {
          "transient": {
            "deleting": false
          }
        },
        "gather": {
          "logged": 1630052790494
        }
      }
    },
    {
      "cell_type": "markdown",
      "source": [
        "***Convert Model to ONNX Runtime***"
      ],
      "metadata": {
        "nteract": {
          "transient": {
            "deleting": false
          }
        }
      }
    },
    {
      "cell_type": "code",
      "source": [
        "model = torch.load('./watchdog_model_demo.pt')\r\n",
        "model.eval()"
      ],
      "outputs": [
        {
          "output_type": "execute_result",
          "execution_count": 21,
          "data": {
            "text/plain": "DistilBertForSequenceClassification(\n  (distilbert): DistilBertModel(\n    (embeddings): Embeddings(\n      (word_embeddings): Embedding(30522, 768, padding_idx=0)\n      (position_embeddings): Embedding(512, 768)\n      (LayerNorm): LayerNorm((768,), eps=1e-12, elementwise_affine=True)\n      (dropout): Dropout(p=0.1, inplace=False)\n    )\n    (transformer): Transformer(\n      (layer): ModuleList(\n        (0): TransformerBlock(\n          (attention): MultiHeadSelfAttention(\n            (dropout): Dropout(p=0.1, inplace=False)\n            (q_lin): Linear(in_features=768, out_features=768, bias=True)\n            (k_lin): Linear(in_features=768, out_features=768, bias=True)\n            (v_lin): Linear(in_features=768, out_features=768, bias=True)\n            (out_lin): Linear(in_features=768, out_features=768, bias=True)\n          )\n          (sa_layer_norm): LayerNorm((768,), eps=1e-12, elementwise_affine=True)\n          (ffn): FFN(\n            (dropout): Dropout(p=0.1, inplace=False)\n            (lin1): Linear(in_features=768, out_features=3072, bias=True)\n            (lin2): Linear(in_features=3072, out_features=768, bias=True)\n          )\n          (output_layer_norm): LayerNorm((768,), eps=1e-12, elementwise_affine=True)\n        )\n        (1): TransformerBlock(\n          (attention): MultiHeadSelfAttention(\n            (dropout): Dropout(p=0.1, inplace=False)\n            (q_lin): Linear(in_features=768, out_features=768, bias=True)\n            (k_lin): Linear(in_features=768, out_features=768, bias=True)\n            (v_lin): Linear(in_features=768, out_features=768, bias=True)\n            (out_lin): Linear(in_features=768, out_features=768, bias=True)\n          )\n          (sa_layer_norm): LayerNorm((768,), eps=1e-12, elementwise_affine=True)\n          (ffn): FFN(\n            (dropout): Dropout(p=0.1, inplace=False)\n            (lin1): Linear(in_features=768, out_features=3072, bias=True)\n            (lin2): Linear(in_features=3072, out_features=768, bias=True)\n          )\n          (output_layer_norm): LayerNorm((768,), eps=1e-12, elementwise_affine=True)\n        )\n        (2): TransformerBlock(\n          (attention): MultiHeadSelfAttention(\n            (dropout): Dropout(p=0.1, inplace=False)\n            (q_lin): Linear(in_features=768, out_features=768, bias=True)\n            (k_lin): Linear(in_features=768, out_features=768, bias=True)\n            (v_lin): Linear(in_features=768, out_features=768, bias=True)\n            (out_lin): Linear(in_features=768, out_features=768, bias=True)\n          )\n          (sa_layer_norm): LayerNorm((768,), eps=1e-12, elementwise_affine=True)\n          (ffn): FFN(\n            (dropout): Dropout(p=0.1, inplace=False)\n            (lin1): Linear(in_features=768, out_features=3072, bias=True)\n            (lin2): Linear(in_features=3072, out_features=768, bias=True)\n          )\n          (output_layer_norm): LayerNorm((768,), eps=1e-12, elementwise_affine=True)\n        )\n        (3): TransformerBlock(\n          (attention): MultiHeadSelfAttention(\n            (dropout): Dropout(p=0.1, inplace=False)\n            (q_lin): Linear(in_features=768, out_features=768, bias=True)\n            (k_lin): Linear(in_features=768, out_features=768, bias=True)\n            (v_lin): Linear(in_features=768, out_features=768, bias=True)\n            (out_lin): Linear(in_features=768, out_features=768, bias=True)\n          )\n          (sa_layer_norm): LayerNorm((768,), eps=1e-12, elementwise_affine=True)\n          (ffn): FFN(\n            (dropout): Dropout(p=0.1, inplace=False)\n            (lin1): Linear(in_features=768, out_features=3072, bias=True)\n            (lin2): Linear(in_features=3072, out_features=768, bias=True)\n          )\n          (output_layer_norm): LayerNorm((768,), eps=1e-12, elementwise_affine=True)\n        )\n        (4): TransformerBlock(\n          (attention): MultiHeadSelfAttention(\n            (dropout): Dropout(p=0.1, inplace=False)\n            (q_lin): Linear(in_features=768, out_features=768, bias=True)\n            (k_lin): Linear(in_features=768, out_features=768, bias=True)\n            (v_lin): Linear(in_features=768, out_features=768, bias=True)\n            (out_lin): Linear(in_features=768, out_features=768, bias=True)\n          )\n          (sa_layer_norm): LayerNorm((768,), eps=1e-12, elementwise_affine=True)\n          (ffn): FFN(\n            (dropout): Dropout(p=0.1, inplace=False)\n            (lin1): Linear(in_features=768, out_features=3072, bias=True)\n            (lin2): Linear(in_features=3072, out_features=768, bias=True)\n          )\n          (output_layer_norm): LayerNorm((768,), eps=1e-12, elementwise_affine=True)\n        )\n        (5): TransformerBlock(\n          (attention): MultiHeadSelfAttention(\n            (dropout): Dropout(p=0.1, inplace=False)\n            (q_lin): Linear(in_features=768, out_features=768, bias=True)\n            (k_lin): Linear(in_features=768, out_features=768, bias=True)\n            (v_lin): Linear(in_features=768, out_features=768, bias=True)\n            (out_lin): Linear(in_features=768, out_features=768, bias=True)\n          )\n          (sa_layer_norm): LayerNorm((768,), eps=1e-12, elementwise_affine=True)\n          (ffn): FFN(\n            (dropout): Dropout(p=0.1, inplace=False)\n            (lin1): Linear(in_features=768, out_features=3072, bias=True)\n            (lin2): Linear(in_features=3072, out_features=768, bias=True)\n          )\n          (output_layer_norm): LayerNorm((768,), eps=1e-12, elementwise_affine=True)\n        )\n      )\n    )\n  )\n  (pre_classifier): Linear(in_features=768, out_features=768, bias=True)\n  (classifier): Linear(in_features=768, out_features=2, bias=True)\n  (dropout): Dropout(p=0.2, inplace=False)\n)"
          },
          "metadata": {}
        }
      ],
      "execution_count": 21,
      "metadata": {
        "collapsed": true,
        "jupyter": {
          "source_hidden": false,
          "outputs_hidden": false
        },
        "nteract": {
          "transient": {
            "deleting": false
          }
        },
        "gather": {
          "logged": 1630052805397
        }
      }
    },
    {
      "cell_type": "code",
      "source": [
        "# Helper method to prepare sample inputs for ONNX\r\n",
        "\r\n",
        "def get_ids_and_masks(text):\r\n",
        "    tokenizer = BertWordPieceTokenizer(\"./bert-base-uncased-vocab.txt\")\r\n",
        "    tokenizer.enable_padding(pad_id=0, pad_token=\"[PAD]\", length=128)\r\n",
        "    tokenizer.enable_truncation(max_length=128)\r\n",
        "\r\n",
        "    input_ids = []\r\n",
        "    attention_masks = []\r\n",
        "\r\n",
        "    encoding = tokenizer.encode(text)\r\n",
        "    input_ids.append(encoding.ids)\r\n",
        "    attention_masks.append(encoding.attention_mask)\r\n",
        "\r\n",
        "    return input_ids, attention_masks"
      ],
      "outputs": [],
      "execution_count": 22,
      "metadata": {
        "collapsed": true,
        "jupyter": {
          "source_hidden": false,
          "outputs_hidden": false
        },
        "nteract": {
          "transient": {
            "deleting": false
          }
        },
        "gather": {
          "logged": 1630052805607
        }
      }
    },
    {
      "cell_type": "code",
      "source": [
        "# Create sample inputs and attention mask\r\n",
        "\r\n",
        "sample_text = data.text[0]\r\n",
        "\r\n",
        "sample_input_ids, sample_attention_masks = get_ids_and_masks(sample_text)\r\n",
        "\r\n",
        "sample_input_ids = torch.tensor(sample_input_ids)\r\n",
        "sample_attention_masks = torch.tensor(sample_attention_masks)\r\n",
        "\r\n",
        "sample_input_ids = sample_input_ids.to(device)\r\n",
        "sample_attention_masks = sample_attention_masks.to(device)"
      ],
      "outputs": [],
      "execution_count": 23,
      "metadata": {
        "collapsed": true,
        "jupyter": {
          "source_hidden": false,
          "outputs_hidden": false
        },
        "nteract": {
          "transient": {
            "deleting": false
          }
        },
        "gather": {
          "logged": 1630052805808
        }
      }
    },
    {
      "cell_type": "code",
      "source": [
        "from torch.onnx import export\r\n",
        "\r\n",
        "model_onnx_path = \"watchdog_model_demo.onnx\"\r\n",
        "\r\n",
        "dummy_input = (\r\n",
        "    sample_input_ids,\r\n",
        "    sample_attention_masks\r\n",
        ")\r\n",
        "input_names = [\"input_ids\", \"attention_mask\"]\r\n",
        "output_names = [\"logits\"]\r\n",
        "\r\n",
        "export(\r\n",
        "    model, dummy_input, model_onnx_path, input_names = input_names, \r\n",
        "    output_names = output_names\r\n",
        ")"
      ],
      "outputs": [
        {
          "output_type": "stream",
          "name": "stderr",
          "text": [
            "/anaconda/envs/azureml_py36/lib/python3.6/site-packages/transformers/modeling_utils.py:1790: TracerWarning: Converting a tensor to a Python boolean might cause the trace to be incorrect. We can't record the data flow of Python values, so this value will be treated as a constant in the future. This means that the trace might not generalize to other inputs!\n",
            "  input_tensor.shape[chunk_dim] == tensor_shape for input_tensor in input_tensors\n"
          ]
        }
      ],
      "execution_count": 24,
      "metadata": {
        "collapsed": true,
        "jupyter": {
          "source_hidden": false,
          "outputs_hidden": false
        },
        "nteract": {
          "transient": {
            "deleting": false
          }
        },
        "gather": {
          "logged": 1630052815321
        }
      }
    },
    {
      "cell_type": "markdown",
      "source": [
        "**Quantize ONNX Model for Efficient Runtime**"
      ],
      "metadata": {
        "nteract": {
          "transient": {
            "deleting": false
          }
        }
      }
    },
    {
      "cell_type": "code",
      "source": [
        "import onnx\r\n",
        "from onnxruntime.quantization import QuantizationMode, quantize\r\n",
        "\r\n",
        "# Load the ONNX model\r\n",
        "onnx_model = onnx.load(\"watchdog_model_demo.onnx\")\r\n",
        "\r\n",
        "quantized_model = quantize(\r\n",
        "    model=onnx_model,\r\n",
        "    quantization_mode=QuantizationMode.IntegerOps,\r\n",
        "    force_fusions=True,\r\n",
        "    symmetric_weight=True\r\n",
        ")\r\n",
        "\r\n",
        "quantized_model_path = \"watchdog_model_quantized_demo.onnx\"\r\n",
        "\r\n",
        "# Save model\r\n",
        "onnx.save_model(quantized_model, quantized_model_path)"
      ],
      "outputs": [
        {
          "output_type": "stream",
          "name": "stdout",
          "text": [
            "Warning: onnxruntime.quantization.quantize is deprecated.\n",
            "         Please use quantize_static for static quantization, quantize_dynamic for dynamic quantization.\n",
            "Warning: The original model opset version is 9, which does not support quantization. Please update the model to opset >= 11. Updating the model automatically to opset 11. Please verify the quantized model.\n"
          ]
        }
      ],
      "execution_count": 25,
      "metadata": {
        "collapsed": true,
        "jupyter": {
          "source_hidden": false,
          "outputs_hidden": false
        },
        "nteract": {
          "transient": {
            "deleting": false
          }
        },
        "gather": {
          "logged": 1630052831121
        }
      }
    },
    {
      "cell_type": "markdown",
      "source": [
        "**Quantized Performance Check**"
      ],
      "metadata": {
        "nteract": {
          "transient": {
            "deleting": false
          }
        }
      }
    },
    {
      "cell_type": "code",
      "source": [
        "import onnx\r\n",
        "\r\n",
        "# Load the ONNX model\r\n",
        "model = onnx.load(\"watchdog_model_quantized_demo.onnx\")\r\n",
        "\r\n",
        "# Check that the IR is well formed\r\n",
        "onnx.checker.check_model(model)\r\n",
        "\r\n",
        "# Print a human readable representation of the graph\r\n",
        "onnx.helper.printable_graph(model.graph)"
      ],
      "outputs": [
        {
          "output_type": "execute_result",
          "execution_count": 26,
          "data": {
            "text/plain": "'graph torch-jit-export (\\n  %input_ids[INT64, 1x128]\\n  %attention_mask[INT64, 1x128]\\n) initializers (\\n  %distilbert.embeddings.LayerNorm.weight[FLOAT, 768]\\n  %distilbert.embeddings.LayerNorm.bias[FLOAT, 768]\\n  %distilbert.transformer.layer.0.attention.q_lin.bias[FLOAT, 768]\\n  %distilbert.transformer.layer.0.attention.k_lin.bias[FLOAT, 768]\\n  %distilbert.transformer.layer.0.attention.v_lin.bias[FLOAT, 768]\\n  %distilbert.transformer.layer.0.attention.out_lin.bias[FLOAT, 768]\\n  %distilbert.transformer.layer.0.sa_layer_norm.weight[FLOAT, 768]\\n  %distilbert.transformer.layer.0.sa_layer_norm.bias[FLOAT, 768]\\n  %distilbert.transformer.layer.0.ffn.lin1.bias[FLOAT, 3072]\\n  %distilbert.transformer.layer.0.ffn.lin2.bias[FLOAT, 768]\\n  %distilbert.transformer.layer.0.output_layer_norm.weight[FLOAT, 768]\\n  %distilbert.transformer.layer.0.output_layer_norm.bias[FLOAT, 768]\\n  %distilbert.transformer.layer.1.attention.q_lin.bias[FLOAT, 768]\\n  %distilbert.transformer.layer.1.attention.k_lin.bias[FLOAT, 768]\\n  %distilbert.transformer.layer.1.attention.v_lin.bias[FLOAT, 768]\\n  %distilbert.transformer.layer.1.attention.out_lin.bias[FLOAT, 768]\\n  %distilbert.transformer.layer.1.sa_layer_norm.weight[FLOAT, 768]\\n  %distilbert.transformer.layer.1.sa_layer_norm.bias[FLOAT, 768]\\n  %distilbert.transformer.layer.1.ffn.lin1.bias[FLOAT, 3072]\\n  %distilbert.transformer.layer.1.ffn.lin2.bias[FLOAT, 768]\\n  %distilbert.transformer.layer.1.output_layer_norm.weight[FLOAT, 768]\\n  %distilbert.transformer.layer.1.output_layer_norm.bias[FLOAT, 768]\\n  %distilbert.transformer.layer.2.attention.q_lin.bias[FLOAT, 768]\\n  %distilbert.transformer.layer.2.attention.k_lin.bias[FLOAT, 768]\\n  %distilbert.transformer.layer.2.attention.v_lin.bias[FLOAT, 768]\\n  %distilbert.transformer.layer.2.attention.out_lin.bias[FLOAT, 768]\\n  %distilbert.transformer.layer.2.sa_layer_norm.weight[FLOAT, 768]\\n  %distilbert.transformer.layer.2.sa_layer_norm.bias[FLOAT, 768]\\n  %distilbert.transformer.layer.2.ffn.lin1.bias[FLOAT, 3072]\\n  %distilbert.transformer.layer.2.ffn.lin2.bias[FLOAT, 768]\\n  %distilbert.transformer.layer.2.output_layer_norm.weight[FLOAT, 768]\\n  %distilbert.transformer.layer.2.output_layer_norm.bias[FLOAT, 768]\\n  %distilbert.transformer.layer.3.attention.q_lin.bias[FLOAT, 768]\\n  %distilbert.transformer.layer.3.attention.k_lin.bias[FLOAT, 768]\\n  %distilbert.transformer.layer.3.attention.v_lin.bias[FLOAT, 768]\\n  %distilbert.transformer.layer.3.attention.out_lin.bias[FLOAT, 768]\\n  %distilbert.transformer.layer.3.sa_layer_norm.weight[FLOAT, 768]\\n  %distilbert.transformer.layer.3.sa_layer_norm.bias[FLOAT, 768]\\n  %distilbert.transformer.layer.3.ffn.lin1.bias[FLOAT, 3072]\\n  %distilbert.transformer.layer.3.ffn.lin2.bias[FLOAT, 768]\\n  %distilbert.transformer.layer.3.output_layer_norm.weight[FLOAT, 768]\\n  %distilbert.transformer.layer.3.output_layer_norm.bias[FLOAT, 768]\\n  %distilbert.transformer.layer.4.attention.q_lin.bias[FLOAT, 768]\\n  %distilbert.transformer.layer.4.attention.k_lin.bias[FLOAT, 768]\\n  %distilbert.transformer.layer.4.attention.v_lin.bias[FLOAT, 768]\\n  %distilbert.transformer.layer.4.attention.out_lin.bias[FLOAT, 768]\\n  %distilbert.transformer.layer.4.sa_layer_norm.weight[FLOAT, 768]\\n  %distilbert.transformer.layer.4.sa_layer_norm.bias[FLOAT, 768]\\n  %distilbert.transformer.layer.4.ffn.lin1.bias[FLOAT, 3072]\\n  %distilbert.transformer.layer.4.ffn.lin2.bias[FLOAT, 768]\\n  %distilbert.transformer.layer.4.output_layer_norm.weight[FLOAT, 768]\\n  %distilbert.transformer.layer.4.output_layer_norm.bias[FLOAT, 768]\\n  %distilbert.transformer.layer.5.attention.q_lin.bias[FLOAT, 768]\\n  %distilbert.transformer.layer.5.attention.k_lin.bias[FLOAT, 768]\\n  %distilbert.transformer.layer.5.attention.v_lin.bias[FLOAT, 768]\\n  %distilbert.transformer.layer.5.attention.out_lin.bias[FLOAT, 768]\\n  %distilbert.transformer.layer.5.sa_layer_norm.weight[FLOAT, 768]\\n  %distilbert.transformer.layer.5.sa_layer_norm.bias[FLOAT, 768]\\n  %distilbert.transformer.layer.5.ffn.lin1.bias[FLOAT, 3072]\\n  %distilbert.transformer.layer.5.ffn.lin2.bias[FLOAT, 768]\\n  %distilbert.transformer.layer.5.output_layer_norm.weight[FLOAT, 768]\\n  %distilbert.transformer.layer.5.output_layer_norm.bias[FLOAT, 768]\\n  %pre_classifier.bias[FLOAT, 768]\\n  %classifier.bias[FLOAT, 2]\\n  %822[INT64, 1]\\n  %823[INT64, 1]\\n  %824[INT64, 1]\\n  %826[INT64, 1]\\n  %827[INT64, 1]\\n  %828[INT64, 1]\\n  %830[INT64, 1]\\n  %831[INT64, 1]\\n  %832[INT64, 1]\\n  %833[INT64, 1]\\n  %834[INT64, 1]\\n  %835[INT64, 1]\\n  %836[INT64, 1]\\n  %841[INT64, 1]\\n  %842[INT64, 1]\\n  %843[INT64, 1]\\n  %845[INT64, 1]\\n  %846[INT64, 1]\\n  %847[INT64, 1]\\n  %849[INT64, 1]\\n  %850[INT64, 1]\\n  %851[INT64, 1]\\n  %852[INT64, 1]\\n  %853[INT64, 1]\\n  %854[INT64, 1]\\n  %855[INT64, 1]\\n  %860[INT64, 1]\\n  %861[INT64, 1]\\n  %862[INT64, 1]\\n  %864[INT64, 1]\\n  %865[INT64, 1]\\n  %866[INT64, 1]\\n  %868[INT64, 1]\\n  %869[INT64, 1]\\n  %870[INT64, 1]\\n  %871[INT64, 1]\\n  %872[INT64, 1]\\n  %873[INT64, 1]\\n  %874[INT64, 1]\\n  %879[INT64, 1]\\n  %880[INT64, 1]\\n  %881[INT64, 1]\\n  %883[INT64, 1]\\n  %884[INT64, 1]\\n  %885[INT64, 1]\\n  %887[INT64, 1]\\n  %888[INT64, 1]\\n  %889[INT64, 1]\\n  %890[INT64, 1]\\n  %891[INT64, 1]\\n  %892[INT64, 1]\\n  %893[INT64, 1]\\n  %898[INT64, 1]\\n  %899[INT64, 1]\\n  %900[INT64, 1]\\n  %902[INT64, 1]\\n  %903[INT64, 1]\\n  %904[INT64, 1]\\n  %906[INT64, 1]\\n  %907[INT64, 1]\\n  %908[INT64, 1]\\n  %909[INT64, 1]\\n  %910[INT64, 1]\\n  %911[INT64, 1]\\n  %912[INT64, 1]\\n  %917[INT64, 1]\\n  %918[INT64, 1]\\n  %919[INT64, 1]\\n  %921[INT64, 1]\\n  %922[INT64, 1]\\n  %923[INT64, 1]\\n  %925[INT64, 1]\\n  %926[INT64, 1]\\n  %927[INT64, 1]\\n  %928[INT64, 1]\\n  %929[INT64, 1]\\n  %930[INT64, 1]\\n  %931[INT64, 1]\\n  %distilbert.embeddings.word_embeddings.weight_quantized[INT8, 30522x768]\\n  %distilbert.embeddings.word_embeddings.weight_scale[FLOAT, scalar]\\n  %distilbert.embeddings.word_embeddings.weight_zero_point[INT8, scalar]\\n  %distilbert.embeddings.position_embeddings.weight_quantized[INT8, 512x768]\\n  %distilbert.embeddings.position_embeddings.weight_scale[FLOAT, scalar]\\n  %distilbert.embeddings.position_embeddings.weight_zero_point[INT8, scalar]\\n  %821_quantized[INT8, 768x768]\\n  %821_scale[FLOAT, scalar]\\n  %821_zero_point[INT8, scalar]\\n  %825_quantized[INT8, 768x768]\\n  %825_scale[FLOAT, scalar]\\n  %825_zero_point[INT8, scalar]\\n  %829_quantized[INT8, 768x768]\\n  %829_scale[FLOAT, scalar]\\n  %829_zero_point[INT8, scalar]\\n  %837_quantized[INT8, 768x768]\\n  %837_scale[FLOAT, scalar]\\n  %837_zero_point[INT8, scalar]\\n  %838_quantized[INT8, 768x3072]\\n  %838_scale[FLOAT, scalar]\\n  %838_zero_point[INT8, scalar]\\n  %839_quantized[INT8, 3072x768]\\n  %839_scale[FLOAT, scalar]\\n  %839_zero_point[INT8, scalar]\\n  %840_quantized[INT8, 768x768]\\n  %840_scale[FLOAT, scalar]\\n  %840_zero_point[INT8, scalar]\\n  %844_quantized[INT8, 768x768]\\n  %844_scale[FLOAT, scalar]\\n  %844_zero_point[INT8, scalar]\\n  %848_quantized[INT8, 768x768]\\n  %848_scale[FLOAT, scalar]\\n  %848_zero_point[INT8, scalar]\\n  %856_quantized[INT8, 768x768]\\n  %856_scale[FLOAT, scalar]\\n  %856_zero_point[INT8, scalar]\\n  %857_quantized[INT8, 768x3072]\\n  %857_scale[FLOAT, scalar]\\n  %857_zero_point[INT8, scalar]\\n  %858_quantized[INT8, 3072x768]\\n  %858_scale[FLOAT, scalar]\\n  %858_zero_point[INT8, scalar]\\n  %859_quantized[INT8, 768x768]\\n  %859_scale[FLOAT, scalar]\\n  %859_zero_point[INT8, scalar]\\n  %863_quantized[INT8, 768x768]\\n  %863_scale[FLOAT, scalar]\\n  %863_zero_point[INT8, scalar]\\n  %867_quantized[INT8, 768x768]\\n  %867_scale[FLOAT, scalar]\\n  %867_zero_point[INT8, scalar]\\n  %875_quantized[INT8, 768x768]\\n  %875_scale[FLOAT, scalar]\\n  %875_zero_point[INT8, scalar]\\n  %876_quantized[INT8, 768x3072]\\n  %876_scale[FLOAT, scalar]\\n  %876_zero_point[INT8, scalar]\\n  %877_quantized[INT8, 3072x768]\\n  %877_scale[FLOAT, scalar]\\n  %877_zero_point[INT8, scalar]\\n  %878_quantized[INT8, 768x768]\\n  %878_scale[FLOAT, scalar]\\n  %878_zero_point[INT8, scalar]\\n  %882_quantized[INT8, 768x768]\\n  %882_scale[FLOAT, scalar]\\n  %882_zero_point[INT8, scalar]\\n  %886_quantized[INT8, 768x768]\\n  %886_scale[FLOAT, scalar]\\n  %886_zero_point[INT8, scalar]\\n  %894_quantized[INT8, 768x768]\\n  %894_scale[FLOAT, scalar]\\n  %894_zero_point[INT8, scalar]\\n  %895_quantized[INT8, 768x3072]\\n  %895_scale[FLOAT, scalar]\\n  %895_zero_point[INT8, scalar]\\n  %896_quantized[INT8, 3072x768]\\n  %896_scale[FLOAT, scalar]\\n  %896_zero_point[INT8, scalar]\\n  %897_quantized[INT8, 768x768]\\n  %897_scale[FLOAT, scalar]\\n  %897_zero_point[INT8, scalar]\\n  %901_quantized[INT8, 768x768]\\n  %901_scale[FLOAT, scalar]\\n  %901_zero_point[INT8, scalar]\\n  %905_quantized[INT8, 768x768]\\n  %905_scale[FLOAT, scalar]\\n  %905_zero_point[INT8, scalar]\\n  %913_quantized[INT8, 768x768]\\n  %913_scale[FLOAT, scalar]\\n  %913_zero_point[INT8, scalar]\\n  %914_quantized[INT8, 768x3072]\\n  %914_scale[FLOAT, scalar]\\n  %914_zero_point[INT8, scalar]\\n  %915_quantized[INT8, 3072x768]\\n  %915_scale[FLOAT, scalar]\\n  %915_zero_point[INT8, scalar]\\n  %916_quantized[INT8, 768x768]\\n  %916_scale[FLOAT, scalar]\\n  %916_zero_point[INT8, scalar]\\n  %920_quantized[INT8, 768x768]\\n  %920_scale[FLOAT, scalar]\\n  %920_zero_point[INT8, scalar]\\n  %924_quantized[INT8, 768x768]\\n  %924_scale[FLOAT, scalar]\\n  %924_zero_point[INT8, scalar]\\n  %932_quantized[INT8, 768x768]\\n  %932_scale[FLOAT, scalar]\\n  %932_zero_point[INT8, scalar]\\n  %933_quantized[INT8, 768x3072]\\n  %933_scale[FLOAT, scalar]\\n  %933_zero_point[INT8, scalar]\\n  %934_quantized[INT8, 3072x768]\\n  %934_scale[FLOAT, scalar]\\n  %934_zero_point[INT8, scalar]\\n  %pre_classifier.weight_quantized[INT8, 768x768]\\n  %pre_classifier.weight_scale[FLOAT, scalar]\\n  %pre_classifier.weight_zero_point[INT8, scalar]\\n  %classifier.weight_quantized[INT8, 768x2]\\n  %classifier.weight_scale[FLOAT, scalar]\\n  %classifier.weight_zero_point[INT8, scalar]\\n) {\\n  %106 = Shape(%input_ids)\\n  %107 = Constant[value = <Scalar Tensor []>]()\\n  %108 = Gather[axis = 0](%106, %107)\\n  %109 = Unsqueeze[axes = [0]](%108)\\n  %110 = ConstantOfShape[value = <Tensor>](%109)\\n  %111 = NonZero(%110)\\n  %112 = Transpose[perm = [1, 0]](%111)\\n  %113 = Squeeze[axes = [1]](%112)\\n  %114 = Cast[to = 7](%113)\\n  %115 = Unsqueeze[axes = [0]](%114)\\n  %116 = Shape(%input_ids)\\n  %117 = Expand(%115, %116)\\n  %118_quantized = Gather(%distilbert.embeddings.word_embeddings.weight_quantized, %input_ids)\\n  %119_quantized = Gather(%distilbert.embeddings.position_embeddings.weight_quantized, %117)\\n  %118 = DequantizeLinear(%118_quantized, %distilbert.embeddings.word_embeddings.weight_scale, %distilbert.embeddings.word_embeddings.weight_zero_point)\\n  %119 = DequantizeLinear(%119_quantized, %distilbert.embeddings.position_embeddings.weight_scale, %distilbert.embeddings.position_embeddings.weight_zero_point)\\n  %120 = Add(%118, %119)\\n  %121 = ReduceMean[axes = [-1]](%120)\\n  %122 = Sub(%120, %121)\\n  %123 = Constant[value = <Scalar Tensor []>]()\\n  %124 = Pow(%122, %123)\\n  %125 = ReduceMean[axes = [-1]](%124)\\n  %126 = Constant[value = <Scalar Tensor []>]()\\n  %127 = Add(%125, %126)\\n  %128 = Sqrt(%127)\\n  %129 = Div(%122, %128)\\n  %130 = Mul(%129, %distilbert.embeddings.LayerNorm.weight)\\n  %131 = Add(%130, %distilbert.embeddings.LayerNorm.bias)\\n  %132 = Shape(%131)\\n  %133 = Constant[value = <Scalar Tensor []>]()\\n  %134 = Gather[axis = 0](%132, %133)\\n  %135 = Shape(%131)\\n  %136 = Constant[value = <Scalar Tensor []>]()\\n  %137 = Gather[axis = 0](%135, %136)\\n  %131_quantized, %131_scale, %131_zero_point = DynamicQuantizeLinear(%131)\\n  %139_output_quantized = MatMulInteger(%131_quantized, %821_quantized, %131_zero_point, %821_zero_point)\\n  %139_output_quantized_cast_output = Cast[to = 1](%139_output_quantized)\\n  %MatMul_32_quant_scales_mul:0 = Mul(%131_scale, %821_scale)\\n  %139 = Mul(%139_output_quantized_cast_output, %MatMul_32_quant_scales_mul:0)\\n  %140 = Add(%139, %distilbert.transformer.layer.0.attention.q_lin.bias)\\n  %144 = Unsqueeze[axes = [0]](%134)\\n  %148 = Concat[axis = 0](%144, %822, %823, %824)\\n  %149 = Reshape(%140, %148)\\n  %150 = Transpose[perm = [0, 2, 1, 3]](%149)\\n  %152_output_quantized = MatMulInteger(%131_quantized, %825_quantized, %131_zero_point, %825_zero_point)\\n  %152_output_quantized_cast_output = Cast[to = 1](%152_output_quantized)\\n  %MatMul_38_quant_scales_mul:0 = Mul(%131_scale, %825_scale)\\n  %152 = Mul(%152_output_quantized_cast_output, %MatMul_38_quant_scales_mul:0)\\n  %153 = Add(%152, %distilbert.transformer.layer.0.attention.k_lin.bias)\\n  %157 = Unsqueeze[axes = [0]](%134)\\n  %161 = Concat[axis = 0](%157, %826, %827, %828)\\n  %162 = Reshape(%153, %161)\\n  %164_output_quantized = MatMulInteger(%131_quantized, %829_quantized, %131_zero_point, %829_zero_point)\\n  %164_output_quantized_cast_output = Cast[to = 1](%164_output_quantized)\\n  %MatMul_43_quant_scales_mul:0 = Mul(%131_scale, %829_scale)\\n  %164 = Mul(%164_output_quantized_cast_output, %MatMul_43_quant_scales_mul:0)\\n  %165 = Add(%164, %distilbert.transformer.layer.0.attention.v_lin.bias)\\n  %169 = Unsqueeze[axes = [0]](%134)\\n  %173 = Concat[axis = 0](%169, %830, %831, %832)\\n  %174 = Reshape(%165, %173)\\n  %175 = Transpose[perm = [0, 2, 1, 3]](%174)\\n  %176 = Constant[value = <Scalar Tensor []>]()\\n  %177 = Div(%150, %176)\\n  %178 = Transpose[perm = [0, 2, 3, 1]](%162)\\n  %177_quantized, %177_scale, %177_zero_point = DynamicQuantizeLinear(%177)\\n  %178_quantized, %178_scale, %178_zero_point = DynamicQuantizeLinear(%178)\\n  %179_output_quantized = MatMulInteger(%177_quantized, %178_quantized, %177_zero_point, %178_zero_point)\\n  %179_output_quantized_cast_output = Cast[to = 1](%179_output_quantized)\\n  %MatMul_52_quant_scales_mul:0 = Mul(%177_scale, %178_scale)\\n  %179 = Mul(%179_output_quantized_cast_output, %MatMul_52_quant_scales_mul:0)\\n  %180 = Constant[value = <Scalar Tensor []>]()\\n  %181 = Equal(%attention_mask, %180)\\n  %184 = Unsqueeze[axes = [0]](%134)\\n  %187 = Unsqueeze[axes = [0]](%137)\\n  %188 = Concat[axis = 0](%184, %833, %834, %187)\\n  %189 = Reshape(%181, %188)\\n  %190 = Shape(%179)\\n  %191 = Expand(%189, %190)\\n  %192 = Cast[to = 9](%191)\\n  %193 = Constant[value = <Scalar Tensor []>]()\\n  %194 = Where(%192, %193, %179)\\n  %195 = Softmax[axis = 3](%194)\\n  %195_quantized, %195_scale, %195_zero_point = DynamicQuantizeLinear(%195)\\n  %175_quantized, %175_scale, %175_zero_point = DynamicQuantizeLinear(%175)\\n  %196_output_quantized = MatMulInteger(%195_quantized, %175_quantized, %195_zero_point, %175_zero_point)\\n  %196_output_quantized_cast_output = Cast[to = 1](%196_output_quantized)\\n  %MatMul_65_quant_scales_mul:0 = Mul(%195_scale, %175_scale)\\n  %196 = Mul(%196_output_quantized_cast_output, %MatMul_65_quant_scales_mul:0)\\n  %197 = Transpose[perm = [0, 2, 1, 3]](%196)\\n  %200 = Unsqueeze[axes = [0]](%134)\\n  %203 = Concat[axis = 0](%200, %835, %836)\\n  %204 = Reshape(%197, %203)\\n  %204_quantized, %204_scale, %204_zero_point = DynamicQuantizeLinear(%204)\\n  %206_output_quantized = MatMulInteger(%204_quantized, %837_quantized, %204_zero_point, %837_zero_point)\\n  %206_output_quantized_cast_output = Cast[to = 1](%206_output_quantized)\\n  %MatMul_70_quant_scales_mul:0 = Mul(%204_scale, %837_scale)\\n  %206 = Mul(%206_output_quantized_cast_output, %MatMul_70_quant_scales_mul:0)\\n  %207 = Add(%206, %distilbert.transformer.layer.0.attention.out_lin.bias)\\n  %208 = Add(%207, %131)\\n  %209 = ReduceMean[axes = [-1]](%208)\\n  %210 = Sub(%208, %209)\\n  %211 = Constant[value = <Scalar Tensor []>]()\\n  %212 = Pow(%210, %211)\\n  %213 = ReduceMean[axes = [-1]](%212)\\n  %214 = Constant[value = <Scalar Tensor []>]()\\n  %215 = Add(%213, %214)\\n  %216 = Sqrt(%215)\\n  %217 = Div(%210, %216)\\n  %218 = Mul(%217, %distilbert.transformer.layer.0.sa_layer_norm.weight)\\n  %219 = Add(%218, %distilbert.transformer.layer.0.sa_layer_norm.bias)\\n  %219_quantized, %219_scale, %219_zero_point = DynamicQuantizeLinear(%219)\\n  %221_output_quantized = MatMulInteger(%219_quantized, %838_quantized, %219_zero_point, %838_zero_point)\\n  %221_output_quantized_cast_output = Cast[to = 1](%221_output_quantized)\\n  %MatMul_84_quant_scales_mul:0 = Mul(%219_scale, %838_scale)\\n  %221 = Mul(%221_output_quantized_cast_output, %MatMul_84_quant_scales_mul:0)\\n  %222 = Add(%221, %distilbert.transformer.layer.0.ffn.lin1.bias)\\n  %223 = Constant[value = <Scalar Tensor []>]()\\n  %224 = Div(%222, %223)\\n  %225 = Erf(%224)\\n  %226 = Constant[value = <Scalar Tensor []>]()\\n  %227 = Add(%225, %226)\\n  %228 = Mul(%222, %227)\\n  %229 = Constant[value = <Scalar Tensor []>]()\\n  %230 = Mul(%228, %229)\\n  %230_quantized, %230_scale, %230_zero_point = DynamicQuantizeLinear(%230)\\n  %232_output_quantized = MatMulInteger(%230_quantized, %839_quantized, %230_zero_point, %839_zero_point)\\n  %232_output_quantized_cast_output = Cast[to = 1](%232_output_quantized)\\n  %MatMul_94_quant_scales_mul:0 = Mul(%230_scale, %839_scale)\\n  %232 = Mul(%232_output_quantized_cast_output, %MatMul_94_quant_scales_mul:0)\\n  %233 = Add(%232, %distilbert.transformer.layer.0.ffn.lin2.bias)\\n  %234 = Add(%233, %219)\\n  %235 = ReduceMean[axes = [-1]](%234)\\n  %236 = Sub(%234, %235)\\n  %237 = Constant[value = <Scalar Tensor []>]()\\n  %238 = Pow(%236, %237)\\n  %239 = ReduceMean[axes = [-1]](%238)\\n  %240 = Constant[value = <Scalar Tensor []>]()\\n  %241 = Add(%239, %240)\\n  %242 = Sqrt(%241)\\n  %243 = Div(%236, %242)\\n  %244 = Mul(%243, %distilbert.transformer.layer.0.output_layer_norm.weight)\\n  %245 = Add(%244, %distilbert.transformer.layer.0.output_layer_norm.bias)\\n  %246 = Shape(%245)\\n  %247 = Constant[value = <Scalar Tensor []>]()\\n  %248 = Gather[axis = 0](%246, %247)\\n  %249 = Shape(%245)\\n  %250 = Constant[value = <Scalar Tensor []>]()\\n  %251 = Gather[axis = 0](%249, %250)\\n  %245_quantized, %245_scale, %245_zero_point = DynamicQuantizeLinear(%245)\\n  %253_output_quantized = MatMulInteger(%245_quantized, %840_quantized, %245_zero_point, %840_zero_point)\\n  %253_output_quantized_cast_output = Cast[to = 1](%253_output_quantized)\\n  %MatMul_114_quant_scales_mul:0 = Mul(%245_scale, %840_scale)\\n  %253 = Mul(%253_output_quantized_cast_output, %MatMul_114_quant_scales_mul:0)\\n  %254 = Add(%253, %distilbert.transformer.layer.1.attention.q_lin.bias)\\n  %258 = Unsqueeze[axes = [0]](%248)\\n  %262 = Concat[axis = 0](%258, %841, %842, %843)\\n  %263 = Reshape(%254, %262)\\n  %264 = Transpose[perm = [0, 2, 1, 3]](%263)\\n  %266_output_quantized = MatMulInteger(%245_quantized, %844_quantized, %245_zero_point, %844_zero_point)\\n  %266_output_quantized_cast_output = Cast[to = 1](%266_output_quantized)\\n  %MatMul_120_quant_scales_mul:0 = Mul(%245_scale, %844_scale)\\n  %266 = Mul(%266_output_quantized_cast_output, %MatMul_120_quant_scales_mul:0)\\n  %267 = Add(%266, %distilbert.transformer.layer.1.attention.k_lin.bias)\\n  %271 = Unsqueeze[axes = [0]](%248)\\n  %275 = Concat[axis = 0](%271, %845, %846, %847)\\n  %276 = Reshape(%267, %275)\\n  %278_output_quantized = MatMulInteger(%245_quantized, %848_quantized, %245_zero_point, %848_zero_point)\\n  %278_output_quantized_cast_output = Cast[to = 1](%278_output_quantized)\\n  %MatMul_125_quant_scales_mul:0 = Mul(%245_scale, %848_scale)\\n  %278 = Mul(%278_output_quantized_cast_output, %MatMul_125_quant_scales_mul:0)\\n  %279 = Add(%278, %distilbert.transformer.layer.1.attention.v_lin.bias)\\n  %283 = Unsqueeze[axes = [0]](%248)\\n  %287 = Concat[axis = 0](%283, %849, %850, %851)\\n  %288 = Reshape(%279, %287)\\n  %289 = Transpose[perm = [0, 2, 1, 3]](%288)\\n  %290 = Constant[value = <Scalar Tensor []>]()\\n  %291 = Div(%264, %290)\\n  %292 = Transpose[perm = [0, 2, 3, 1]](%276)\\n  %291_quantized, %291_scale, %291_zero_point = DynamicQuantizeLinear(%291)\\n  %292_quantized, %292_scale, %292_zero_point = DynamicQuantizeLinear(%292)\\n  %293_output_quantized = MatMulInteger(%291_quantized, %292_quantized, %291_zero_point, %292_zero_point)\\n  %293_output_quantized_cast_output = Cast[to = 1](%293_output_quantized)\\n  %MatMul_134_quant_scales_mul:0 = Mul(%291_scale, %292_scale)\\n  %293 = Mul(%293_output_quantized_cast_output, %MatMul_134_quant_scales_mul:0)\\n  %294 = Constant[value = <Scalar Tensor []>]()\\n  %295 = Equal(%attention_mask, %294)\\n  %298 = Unsqueeze[axes = [0]](%248)\\n  %301 = Unsqueeze[axes = [0]](%251)\\n  %302 = Concat[axis = 0](%298, %852, %853, %301)\\n  %303 = Reshape(%295, %302)\\n  %304 = Shape(%293)\\n  %305 = Expand(%303, %304)\\n  %306 = Cast[to = 9](%305)\\n  %307 = Constant[value = <Scalar Tensor []>]()\\n  %308 = Where(%306, %307, %293)\\n  %309 = Softmax[axis = 3](%308)\\n  %309_quantized, %309_scale, %309_zero_point = DynamicQuantizeLinear(%309)\\n  %289_quantized, %289_scale, %289_zero_point = DynamicQuantizeLinear(%289)\\n  %310_output_quantized = MatMulInteger(%309_quantized, %289_quantized, %309_zero_point, %289_zero_point)\\n  %310_output_quantized_cast_output = Cast[to = 1](%310_output_quantized)\\n  %MatMul_147_quant_scales_mul:0 = Mul(%309_scale, %289_scale)\\n  %310 = Mul(%310_output_quantized_cast_output, %MatMul_147_quant_scales_mul:0)\\n  %311 = Transpose[perm = [0, 2, 1, 3]](%310)\\n  %314 = Unsqueeze[axes = [0]](%248)\\n  %317 = Concat[axis = 0](%314, %854, %855)\\n  %318 = Reshape(%311, %317)\\n  %318_quantized, %318_scale, %318_zero_point = DynamicQuantizeLinear(%318)\\n  %320_output_quantized = MatMulInteger(%318_quantized, %856_quantized, %318_zero_point, %856_zero_point)\\n  %320_output_quantized_cast_output = Cast[to = 1](%320_output_quantized)\\n  %MatMul_152_quant_scales_mul:0 = Mul(%318_scale, %856_scale)\\n  %320 = Mul(%320_output_quantized_cast_output, %MatMul_152_quant_scales_mul:0)\\n  %321 = Add(%320, %distilbert.transformer.layer.1.attention.out_lin.bias)\\n  %322 = Add(%321, %245)\\n  %323 = ReduceMean[axes = [-1]](%322)\\n  %324 = Sub(%322, %323)\\n  %325 = Constant[value = <Scalar Tensor []>]()\\n  %326 = Pow(%324, %325)\\n  %327 = ReduceMean[axes = [-1]](%326)\\n  %328 = Constant[value = <Scalar Tensor []>]()\\n  %329 = Add(%327, %328)\\n  %330 = Sqrt(%329)\\n  %331 = Div(%324, %330)\\n  %332 = Mul(%331, %distilbert.transformer.layer.1.sa_layer_norm.weight)\\n  %333 = Add(%332, %distilbert.transformer.layer.1.sa_layer_norm.bias)\\n  %333_quantized, %333_scale, %333_zero_point = DynamicQuantizeLinear(%333)\\n  %335_output_quantized = MatMulInteger(%333_quantized, %857_quantized, %333_zero_point, %857_zero_point)\\n  %335_output_quantized_cast_output = Cast[to = 1](%335_output_quantized)\\n  %MatMul_166_quant_scales_mul:0 = Mul(%333_scale, %857_scale)\\n  %335 = Mul(%335_output_quantized_cast_output, %MatMul_166_quant_scales_mul:0)\\n  %336 = Add(%335, %distilbert.transformer.layer.1.ffn.lin1.bias)\\n  %337 = Constant[value = <Scalar Tensor []>]()\\n  %338 = Div(%336, %337)\\n  %339 = Erf(%338)\\n  %340 = Constant[value = <Scalar Tensor []>]()\\n  %341 = Add(%339, %340)\\n  %342 = Mul(%336, %341)\\n  %343 = Constant[value = <Scalar Tensor []>]()\\n  %344 = Mul(%342, %343)\\n  %344_quantized, %344_scale, %344_zero_point = DynamicQuantizeLinear(%344)\\n  %346_output_quantized = MatMulInteger(%344_quantized, %858_quantized, %344_zero_point, %858_zero_point)\\n  %346_output_quantized_cast_output = Cast[to = 1](%346_output_quantized)\\n  %MatMul_176_quant_scales_mul:0 = Mul(%344_scale, %858_scale)\\n  %346 = Mul(%346_output_quantized_cast_output, %MatMul_176_quant_scales_mul:0)\\n  %347 = Add(%346, %distilbert.transformer.layer.1.ffn.lin2.bias)\\n  %348 = Add(%347, %333)\\n  %349 = ReduceMean[axes = [-1]](%348)\\n  %350 = Sub(%348, %349)\\n  %351 = Constant[value = <Scalar Tensor []>]()\\n  %352 = Pow(%350, %351)\\n  %353 = ReduceMean[axes = [-1]](%352)\\n  %354 = Constant[value = <Scalar Tensor []>]()\\n  %355 = Add(%353, %354)\\n  %356 = Sqrt(%355)\\n  %357 = Div(%350, %356)\\n  %358 = Mul(%357, %distilbert.transformer.layer.1.output_layer_norm.weight)\\n  %359 = Add(%358, %distilbert.transformer.layer.1.output_layer_norm.bias)\\n  %360 = Shape(%359)\\n  %361 = Constant[value = <Scalar Tensor []>]()\\n  %362 = Gather[axis = 0](%360, %361)\\n  %363 = Shape(%359)\\n  %364 = Constant[value = <Scalar Tensor []>]()\\n  %365 = Gather[axis = 0](%363, %364)\\n  %359_quantized, %359_scale, %359_zero_point = DynamicQuantizeLinear(%359)\\n  %367_output_quantized = MatMulInteger(%359_quantized, %859_quantized, %359_zero_point, %859_zero_point)\\n  %367_output_quantized_cast_output = Cast[to = 1](%367_output_quantized)\\n  %MatMul_196_quant_scales_mul:0 = Mul(%359_scale, %859_scale)\\n  %367 = Mul(%367_output_quantized_cast_output, %MatMul_196_quant_scales_mul:0)\\n  %368 = Add(%367, %distilbert.transformer.layer.2.attention.q_lin.bias)\\n  %372 = Unsqueeze[axes = [0]](%362)\\n  %376 = Concat[axis = 0](%372, %860, %861, %862)\\n  %377 = Reshape(%368, %376)\\n  %378 = Transpose[perm = [0, 2, 1, 3]](%377)\\n  %380_output_quantized = MatMulInteger(%359_quantized, %863_quantized, %359_zero_point, %863_zero_point)\\n  %380_output_quantized_cast_output = Cast[to = 1](%380_output_quantized)\\n  %MatMul_202_quant_scales_mul:0 = Mul(%359_scale, %863_scale)\\n  %380 = Mul(%380_output_quantized_cast_output, %MatMul_202_quant_scales_mul:0)\\n  %381 = Add(%380, %distilbert.transformer.layer.2.attention.k_lin.bias)\\n  %385 = Unsqueeze[axes = [0]](%362)\\n  %389 = Concat[axis = 0](%385, %864, %865, %866)\\n  %390 = Reshape(%381, %389)\\n  %392_output_quantized = MatMulInteger(%359_quantized, %867_quantized, %359_zero_point, %867_zero_point)\\n  %392_output_quantized_cast_output = Cast[to = 1](%392_output_quantized)\\n  %MatMul_207_quant_scales_mul:0 = Mul(%359_scale, %867_scale)\\n  %392 = Mul(%392_output_quantized_cast_output, %MatMul_207_quant_scales_mul:0)\\n  %393 = Add(%392, %distilbert.transformer.layer.2.attention.v_lin.bias)\\n  %397 = Unsqueeze[axes = [0]](%362)\\n  %401 = Concat[axis = 0](%397, %868, %869, %870)\\n  %402 = Reshape(%393, %401)\\n  %403 = Transpose[perm = [0, 2, 1, 3]](%402)\\n  %404 = Constant[value = <Scalar Tensor []>]()\\n  %405 = Div(%378, %404)\\n  %406 = Transpose[perm = [0, 2, 3, 1]](%390)\\n  %405_quantized, %405_scale, %405_zero_point = DynamicQuantizeLinear(%405)\\n  %406_quantized, %406_scale, %406_zero_point = DynamicQuantizeLinear(%406)\\n  %407_output_quantized = MatMulInteger(%405_quantized, %406_quantized, %405_zero_point, %406_zero_point)\\n  %407_output_quantized_cast_output = Cast[to = 1](%407_output_quantized)\\n  %MatMul_216_quant_scales_mul:0 = Mul(%405_scale, %406_scale)\\n  %407 = Mul(%407_output_quantized_cast_output, %MatMul_216_quant_scales_mul:0)\\n  %408 = Constant[value = <Scalar Tensor []>]()\\n  %409 = Equal(%attention_mask, %408)\\n  %412 = Unsqueeze[axes = [0]](%362)\\n  %415 = Unsqueeze[axes = [0]](%365)\\n  %416 = Concat[axis = 0](%412, %871, %872, %415)\\n  %417 = Reshape(%409, %416)\\n  %418 = Shape(%407)\\n  %419 = Expand(%417, %418)\\n  %420 = Cast[to = 9](%419)\\n  %421 = Constant[value = <Scalar Tensor []>]()\\n  %422 = Where(%420, %421, %407)\\n  %423 = Softmax[axis = 3](%422)\\n  %423_quantized, %423_scale, %423_zero_point = DynamicQuantizeLinear(%423)\\n  %403_quantized, %403_scale, %403_zero_point = DynamicQuantizeLinear(%403)\\n  %424_output_quantized = MatMulInteger(%423_quantized, %403_quantized, %423_zero_point, %403_zero_point)\\n  %424_output_quantized_cast_output = Cast[to = 1](%424_output_quantized)\\n  %MatMul_229_quant_scales_mul:0 = Mul(%423_scale, %403_scale)\\n  %424 = Mul(%424_output_quantized_cast_output, %MatMul_229_quant_scales_mul:0)\\n  %425 = Transpose[perm = [0, 2, 1, 3]](%424)\\n  %428 = Unsqueeze[axes = [0]](%362)\\n  %431 = Concat[axis = 0](%428, %873, %874)\\n  %432 = Reshape(%425, %431)\\n  %432_quantized, %432_scale, %432_zero_point = DynamicQuantizeLinear(%432)\\n  %434_output_quantized = MatMulInteger(%432_quantized, %875_quantized, %432_zero_point, %875_zero_point)\\n  %434_output_quantized_cast_output = Cast[to = 1](%434_output_quantized)\\n  %MatMul_234_quant_scales_mul:0 = Mul(%432_scale, %875_scale)\\n  %434 = Mul(%434_output_quantized_cast_output, %MatMul_234_quant_scales_mul:0)\\n  %435 = Add(%434, %distilbert.transformer.layer.2.attention.out_lin.bias)\\n  %436 = Add(%435, %359)\\n  %437 = ReduceMean[axes = [-1]](%436)\\n  %438 = Sub(%436, %437)\\n  %439 = Constant[value = <Scalar Tensor []>]()\\n  %440 = Pow(%438, %439)\\n  %441 = ReduceMean[axes = [-1]](%440)\\n  %442 = Constant[value = <Scalar Tensor []>]()\\n  %443 = Add(%441, %442)\\n  %444 = Sqrt(%443)\\n  %445 = Div(%438, %444)\\n  %446 = Mul(%445, %distilbert.transformer.layer.2.sa_layer_norm.weight)\\n  %447 = Add(%446, %distilbert.transformer.layer.2.sa_layer_norm.bias)\\n  %447_quantized, %447_scale, %447_zero_point = DynamicQuantizeLinear(%447)\\n  %449_output_quantized = MatMulInteger(%447_quantized, %876_quantized, %447_zero_point, %876_zero_point)\\n  %449_output_quantized_cast_output = Cast[to = 1](%449_output_quantized)\\n  %MatMul_248_quant_scales_mul:0 = Mul(%447_scale, %876_scale)\\n  %449 = Mul(%449_output_quantized_cast_output, %MatMul_248_quant_scales_mul:0)\\n  %450 = Add(%449, %distilbert.transformer.layer.2.ffn.lin1.bias)\\n  %451 = Constant[value = <Scalar Tensor []>]()\\n  %452 = Div(%450, %451)\\n  %453 = Erf(%452)\\n  %454 = Constant[value = <Scalar Tensor []>]()\\n  %455 = Add(%453, %454)\\n  %456 = Mul(%450, %455)\\n  %457 = Constant[value = <Scalar Tensor []>]()\\n  %458 = Mul(%456, %457)\\n  %458_quantized, %458_scale, %458_zero_point = DynamicQuantizeLinear(%458)\\n  %460_output_quantized = MatMulInteger(%458_quantized, %877_quantized, %458_zero_point, %877_zero_point)\\n  %460_output_quantized_cast_output = Cast[to = 1](%460_output_quantized)\\n  %MatMul_258_quant_scales_mul:0 = Mul(%458_scale, %877_scale)\\n  %460 = Mul(%460_output_quantized_cast_output, %MatMul_258_quant_scales_mul:0)\\n  %461 = Add(%460, %distilbert.transformer.layer.2.ffn.lin2.bias)\\n  %462 = Add(%461, %447)\\n  %463 = ReduceMean[axes = [-1]](%462)\\n  %464 = Sub(%462, %463)\\n  %465 = Constant[value = <Scalar Tensor []>]()\\n  %466 = Pow(%464, %465)\\n  %467 = ReduceMean[axes = [-1]](%466)\\n  %468 = Constant[value = <Scalar Tensor []>]()\\n  %469 = Add(%467, %468)\\n  %470 = Sqrt(%469)\\n  %471 = Div(%464, %470)\\n  %472 = Mul(%471, %distilbert.transformer.layer.2.output_layer_norm.weight)\\n  %473 = Add(%472, %distilbert.transformer.layer.2.output_layer_norm.bias)\\n  %474 = Shape(%473)\\n  %475 = Constant[value = <Scalar Tensor []>]()\\n  %476 = Gather[axis = 0](%474, %475)\\n  %477 = Shape(%473)\\n  %478 = Constant[value = <Scalar Tensor []>]()\\n  %479 = Gather[axis = 0](%477, %478)\\n  %473_quantized, %473_scale, %473_zero_point = DynamicQuantizeLinear(%473)\\n  %481_output_quantized = MatMulInteger(%473_quantized, %878_quantized, %473_zero_point, %878_zero_point)\\n  %481_output_quantized_cast_output = Cast[to = 1](%481_output_quantized)\\n  %MatMul_278_quant_scales_mul:0 = Mul(%473_scale, %878_scale)\\n  %481 = Mul(%481_output_quantized_cast_output, %MatMul_278_quant_scales_mul:0)\\n  %482 = Add(%481, %distilbert.transformer.layer.3.attention.q_lin.bias)\\n  %486 = Unsqueeze[axes = [0]](%476)\\n  %490 = Concat[axis = 0](%486, %879, %880, %881)\\n  %491 = Reshape(%482, %490)\\n  %492 = Transpose[perm = [0, 2, 1, 3]](%491)\\n  %494_output_quantized = MatMulInteger(%473_quantized, %882_quantized, %473_zero_point, %882_zero_point)\\n  %494_output_quantized_cast_output = Cast[to = 1](%494_output_quantized)\\n  %MatMul_284_quant_scales_mul:0 = Mul(%473_scale, %882_scale)\\n  %494 = Mul(%494_output_quantized_cast_output, %MatMul_284_quant_scales_mul:0)\\n  %495 = Add(%494, %distilbert.transformer.layer.3.attention.k_lin.bias)\\n  %499 = Unsqueeze[axes = [0]](%476)\\n  %503 = Concat[axis = 0](%499, %883, %884, %885)\\n  %504 = Reshape(%495, %503)\\n  %506_output_quantized = MatMulInteger(%473_quantized, %886_quantized, %473_zero_point, %886_zero_point)\\n  %506_output_quantized_cast_output = Cast[to = 1](%506_output_quantized)\\n  %MatMul_289_quant_scales_mul:0 = Mul(%473_scale, %886_scale)\\n  %506 = Mul(%506_output_quantized_cast_output, %MatMul_289_quant_scales_mul:0)\\n  %507 = Add(%506, %distilbert.transformer.layer.3.attention.v_lin.bias)\\n  %511 = Unsqueeze[axes = [0]](%476)\\n  %515 = Concat[axis = 0](%511, %887, %888, %889)\\n  %516 = Reshape(%507, %515)\\n  %517 = Transpose[perm = [0, 2, 1, 3]](%516)\\n  %518 = Constant[value = <Scalar Tensor []>]()\\n  %519 = Div(%492, %518)\\n  %520 = Transpose[perm = [0, 2, 3, 1]](%504)\\n  %519_quantized, %519_scale, %519_zero_point = DynamicQuantizeLinear(%519)\\n  %520_quantized, %520_scale, %520_zero_point = DynamicQuantizeLinear(%520)\\n  %521_output_quantized = MatMulInteger(%519_quantized, %520_quantized, %519_zero_point, %520_zero_point)\\n  %521_output_quantized_cast_output = Cast[to = 1](%521_output_quantized)\\n  %MatMul_298_quant_scales_mul:0 = Mul(%519_scale, %520_scale)\\n  %521 = Mul(%521_output_quantized_cast_output, %MatMul_298_quant_scales_mul:0)\\n  %522 = Constant[value = <Scalar Tensor []>]()\\n  %523 = Equal(%attention_mask, %522)\\n  %526 = Unsqueeze[axes = [0]](%476)\\n  %529 = Unsqueeze[axes = [0]](%479)\\n  %530 = Concat[axis = 0](%526, %890, %891, %529)\\n  %531 = Reshape(%523, %530)\\n  %532 = Shape(%521)\\n  %533 = Expand(%531, %532)\\n  %534 = Cast[to = 9](%533)\\n  %535 = Constant[value = <Scalar Tensor []>]()\\n  %536 = Where(%534, %535, %521)\\n  %537 = Softmax[axis = 3](%536)\\n  %537_quantized, %537_scale, %537_zero_point = DynamicQuantizeLinear(%537)\\n  %517_quantized, %517_scale, %517_zero_point = DynamicQuantizeLinear(%517)\\n  %538_output_quantized = MatMulInteger(%537_quantized, %517_quantized, %537_zero_point, %517_zero_point)\\n  %538_output_quantized_cast_output = Cast[to = 1](%538_output_quantized)\\n  %MatMul_311_quant_scales_mul:0 = Mul(%537_scale, %517_scale)\\n  %538 = Mul(%538_output_quantized_cast_output, %MatMul_311_quant_scales_mul:0)\\n  %539 = Transpose[perm = [0, 2, 1, 3]](%538)\\n  %542 = Unsqueeze[axes = [0]](%476)\\n  %545 = Concat[axis = 0](%542, %892, %893)\\n  %546 = Reshape(%539, %545)\\n  %546_quantized, %546_scale, %546_zero_point = DynamicQuantizeLinear(%546)\\n  %548_output_quantized = MatMulInteger(%546_quantized, %894_quantized, %546_zero_point, %894_zero_point)\\n  %548_output_quantized_cast_output = Cast[to = 1](%548_output_quantized)\\n  %MatMul_316_quant_scales_mul:0 = Mul(%546_scale, %894_scale)\\n  %548 = Mul(%548_output_quantized_cast_output, %MatMul_316_quant_scales_mul:0)\\n  %549 = Add(%548, %distilbert.transformer.layer.3.attention.out_lin.bias)\\n  %550 = Add(%549, %473)\\n  %551 = ReduceMean[axes = [-1]](%550)\\n  %552 = Sub(%550, %551)\\n  %553 = Constant[value = <Scalar Tensor []>]()\\n  %554 = Pow(%552, %553)\\n  %555 = ReduceMean[axes = [-1]](%554)\\n  %556 = Constant[value = <Scalar Tensor []>]()\\n  %557 = Add(%555, %556)\\n  %558 = Sqrt(%557)\\n  %559 = Div(%552, %558)\\n  %560 = Mul(%559, %distilbert.transformer.layer.3.sa_layer_norm.weight)\\n  %561 = Add(%560, %distilbert.transformer.layer.3.sa_layer_norm.bias)\\n  %561_quantized, %561_scale, %561_zero_point = DynamicQuantizeLinear(%561)\\n  %563_output_quantized = MatMulInteger(%561_quantized, %895_quantized, %561_zero_point, %895_zero_point)\\n  %563_output_quantized_cast_output = Cast[to = 1](%563_output_quantized)\\n  %MatMul_330_quant_scales_mul:0 = Mul(%561_scale, %895_scale)\\n  %563 = Mul(%563_output_quantized_cast_output, %MatMul_330_quant_scales_mul:0)\\n  %564 = Add(%563, %distilbert.transformer.layer.3.ffn.lin1.bias)\\n  %565 = Constant[value = <Scalar Tensor []>]()\\n  %566 = Div(%564, %565)\\n  %567 = Erf(%566)\\n  %568 = Constant[value = <Scalar Tensor []>]()\\n  %569 = Add(%567, %568)\\n  %570 = Mul(%564, %569)\\n  %571 = Constant[value = <Scalar Tensor []>]()\\n  %572 = Mul(%570, %571)\\n  %572_quantized, %572_scale, %572_zero_point = DynamicQuantizeLinear(%572)\\n  %574_output_quantized = MatMulInteger(%572_quantized, %896_quantized, %572_zero_point, %896_zero_point)\\n  %574_output_quantized_cast_output = Cast[to = 1](%574_output_quantized)\\n  %MatMul_340_quant_scales_mul:0 = Mul(%572_scale, %896_scale)\\n  %574 = Mul(%574_output_quantized_cast_output, %MatMul_340_quant_scales_mul:0)\\n  %575 = Add(%574, %distilbert.transformer.layer.3.ffn.lin2.bias)\\n  %576 = Add(%575, %561)\\n  %577 = ReduceMean[axes = [-1]](%576)\\n  %578 = Sub(%576, %577)\\n  %579 = Constant[value = <Scalar Tensor []>]()\\n  %580 = Pow(%578, %579)\\n  %581 = ReduceMean[axes = [-1]](%580)\\n  %582 = Constant[value = <Scalar Tensor []>]()\\n  %583 = Add(%581, %582)\\n  %584 = Sqrt(%583)\\n  %585 = Div(%578, %584)\\n  %586 = Mul(%585, %distilbert.transformer.layer.3.output_layer_norm.weight)\\n  %587 = Add(%586, %distilbert.transformer.layer.3.output_layer_norm.bias)\\n  %588 = Shape(%587)\\n  %589 = Constant[value = <Scalar Tensor []>]()\\n  %590 = Gather[axis = 0](%588, %589)\\n  %591 = Shape(%587)\\n  %592 = Constant[value = <Scalar Tensor []>]()\\n  %593 = Gather[axis = 0](%591, %592)\\n  %587_quantized, %587_scale, %587_zero_point = DynamicQuantizeLinear(%587)\\n  %595_output_quantized = MatMulInteger(%587_quantized, %897_quantized, %587_zero_point, %897_zero_point)\\n  %595_output_quantized_cast_output = Cast[to = 1](%595_output_quantized)\\n  %MatMul_360_quant_scales_mul:0 = Mul(%587_scale, %897_scale)\\n  %595 = Mul(%595_output_quantized_cast_output, %MatMul_360_quant_scales_mul:0)\\n  %596 = Add(%595, %distilbert.transformer.layer.4.attention.q_lin.bias)\\n  %600 = Unsqueeze[axes = [0]](%590)\\n  %604 = Concat[axis = 0](%600, %898, %899, %900)\\n  %605 = Reshape(%596, %604)\\n  %606 = Transpose[perm = [0, 2, 1, 3]](%605)\\n  %608_output_quantized = MatMulInteger(%587_quantized, %901_quantized, %587_zero_point, %901_zero_point)\\n  %608_output_quantized_cast_output = Cast[to = 1](%608_output_quantized)\\n  %MatMul_366_quant_scales_mul:0 = Mul(%587_scale, %901_scale)\\n  %608 = Mul(%608_output_quantized_cast_output, %MatMul_366_quant_scales_mul:0)\\n  %609 = Add(%608, %distilbert.transformer.layer.4.attention.k_lin.bias)\\n  %613 = Unsqueeze[axes = [0]](%590)\\n  %617 = Concat[axis = 0](%613, %902, %903, %904)\\n  %618 = Reshape(%609, %617)\\n  %620_output_quantized = MatMulInteger(%587_quantized, %905_quantized, %587_zero_point, %905_zero_point)\\n  %620_output_quantized_cast_output = Cast[to = 1](%620_output_quantized)\\n  %MatMul_371_quant_scales_mul:0 = Mul(%587_scale, %905_scale)\\n  %620 = Mul(%620_output_quantized_cast_output, %MatMul_371_quant_scales_mul:0)\\n  %621 = Add(%620, %distilbert.transformer.layer.4.attention.v_lin.bias)\\n  %625 = Unsqueeze[axes = [0]](%590)\\n  %629 = Concat[axis = 0](%625, %906, %907, %908)\\n  %630 = Reshape(%621, %629)\\n  %631 = Transpose[perm = [0, 2, 1, 3]](%630)\\n  %632 = Constant[value = <Scalar Tensor []>]()\\n  %633 = Div(%606, %632)\\n  %634 = Transpose[perm = [0, 2, 3, 1]](%618)\\n  %633_quantized, %633_scale, %633_zero_point = DynamicQuantizeLinear(%633)\\n  %634_quantized, %634_scale, %634_zero_point = DynamicQuantizeLinear(%634)\\n  %635_output_quantized = MatMulInteger(%633_quantized, %634_quantized, %633_zero_point, %634_zero_point)\\n  %635_output_quantized_cast_output = Cast[to = 1](%635_output_quantized)\\n  %MatMul_380_quant_scales_mul:0 = Mul(%633_scale, %634_scale)\\n  %635 = Mul(%635_output_quantized_cast_output, %MatMul_380_quant_scales_mul:0)\\n  %636 = Constant[value = <Scalar Tensor []>]()\\n  %637 = Equal(%attention_mask, %636)\\n  %640 = Unsqueeze[axes = [0]](%590)\\n  %643 = Unsqueeze[axes = [0]](%593)\\n  %644 = Concat[axis = 0](%640, %909, %910, %643)\\n  %645 = Reshape(%637, %644)\\n  %646 = Shape(%635)\\n  %647 = Expand(%645, %646)\\n  %648 = Cast[to = 9](%647)\\n  %649 = Constant[value = <Scalar Tensor []>]()\\n  %650 = Where(%648, %649, %635)\\n  %651 = Softmax[axis = 3](%650)\\n  %651_quantized, %651_scale, %651_zero_point = DynamicQuantizeLinear(%651)\\n  %631_quantized, %631_scale, %631_zero_point = DynamicQuantizeLinear(%631)\\n  %652_output_quantized = MatMulInteger(%651_quantized, %631_quantized, %651_zero_point, %631_zero_point)\\n  %652_output_quantized_cast_output = Cast[to = 1](%652_output_quantized)\\n  %MatMul_393_quant_scales_mul:0 = Mul(%651_scale, %631_scale)\\n  %652 = Mul(%652_output_quantized_cast_output, %MatMul_393_quant_scales_mul:0)\\n  %653 = Transpose[perm = [0, 2, 1, 3]](%652)\\n  %656 = Unsqueeze[axes = [0]](%590)\\n  %659 = Concat[axis = 0](%656, %911, %912)\\n  %660 = Reshape(%653, %659)\\n  %660_quantized, %660_scale, %660_zero_point = DynamicQuantizeLinear(%660)\\n  %662_output_quantized = MatMulInteger(%660_quantized, %913_quantized, %660_zero_point, %913_zero_point)\\n  %662_output_quantized_cast_output = Cast[to = 1](%662_output_quantized)\\n  %MatMul_398_quant_scales_mul:0 = Mul(%660_scale, %913_scale)\\n  %662 = Mul(%662_output_quantized_cast_output, %MatMul_398_quant_scales_mul:0)\\n  %663 = Add(%662, %distilbert.transformer.layer.4.attention.out_lin.bias)\\n  %664 = Add(%663, %587)\\n  %665 = ReduceMean[axes = [-1]](%664)\\n  %666 = Sub(%664, %665)\\n  %667 = Constant[value = <Scalar Tensor []>]()\\n  %668 = Pow(%666, %667)\\n  %669 = ReduceMean[axes = [-1]](%668)\\n  %670 = Constant[value = <Scalar Tensor []>]()\\n  %671 = Add(%669, %670)\\n  %672 = Sqrt(%671)\\n  %673 = Div(%666, %672)\\n  %674 = Mul(%673, %distilbert.transformer.layer.4.sa_layer_norm.weight)\\n  %675 = Add(%674, %distilbert.transformer.layer.4.sa_layer_norm.bias)\\n  %675_quantized, %675_scale, %675_zero_point = DynamicQuantizeLinear(%675)\\n  %677_output_quantized = MatMulInteger(%675_quantized, %914_quantized, %675_zero_point, %914_zero_point)\\n  %677_output_quantized_cast_output = Cast[to = 1](%677_output_quantized)\\n  %MatMul_412_quant_scales_mul:0 = Mul(%675_scale, %914_scale)\\n  %677 = Mul(%677_output_quantized_cast_output, %MatMul_412_quant_scales_mul:0)\\n  %678 = Add(%677, %distilbert.transformer.layer.4.ffn.lin1.bias)\\n  %679 = Constant[value = <Scalar Tensor []>]()\\n  %680 = Div(%678, %679)\\n  %681 = Erf(%680)\\n  %682 = Constant[value = <Scalar Tensor []>]()\\n  %683 = Add(%681, %682)\\n  %684 = Mul(%678, %683)\\n  %685 = Constant[value = <Scalar Tensor []>]()\\n  %686 = Mul(%684, %685)\\n  %686_quantized, %686_scale, %686_zero_point = DynamicQuantizeLinear(%686)\\n  %688_output_quantized = MatMulInteger(%686_quantized, %915_quantized, %686_zero_point, %915_zero_point)\\n  %688_output_quantized_cast_output = Cast[to = 1](%688_output_quantized)\\n  %MatMul_422_quant_scales_mul:0 = Mul(%686_scale, %915_scale)\\n  %688 = Mul(%688_output_quantized_cast_output, %MatMul_422_quant_scales_mul:0)\\n  %689 = Add(%688, %distilbert.transformer.layer.4.ffn.lin2.bias)\\n  %690 = Add(%689, %675)\\n  %691 = ReduceMean[axes = [-1]](%690)\\n  %692 = Sub(%690, %691)\\n  %693 = Constant[value = <Scalar Tensor []>]()\\n  %694 = Pow(%692, %693)\\n  %695 = ReduceMean[axes = [-1]](%694)\\n  %696 = Constant[value = <Scalar Tensor []>]()\\n  %697 = Add(%695, %696)\\n  %698 = Sqrt(%697)\\n  %699 = Div(%692, %698)\\n  %700 = Mul(%699, %distilbert.transformer.layer.4.output_layer_norm.weight)\\n  %701 = Add(%700, %distilbert.transformer.layer.4.output_layer_norm.bias)\\n  %702 = Shape(%701)\\n  %703 = Constant[value = <Scalar Tensor []>]()\\n  %704 = Gather[axis = 0](%702, %703)\\n  %705 = Shape(%701)\\n  %706 = Constant[value = <Scalar Tensor []>]()\\n  %707 = Gather[axis = 0](%705, %706)\\n  %701_quantized, %701_scale, %701_zero_point = DynamicQuantizeLinear(%701)\\n  %709_output_quantized = MatMulInteger(%701_quantized, %916_quantized, %701_zero_point, %916_zero_point)\\n  %709_output_quantized_cast_output = Cast[to = 1](%709_output_quantized)\\n  %MatMul_442_quant_scales_mul:0 = Mul(%701_scale, %916_scale)\\n  %709 = Mul(%709_output_quantized_cast_output, %MatMul_442_quant_scales_mul:0)\\n  %710 = Add(%709, %distilbert.transformer.layer.5.attention.q_lin.bias)\\n  %714 = Unsqueeze[axes = [0]](%704)\\n  %718 = Concat[axis = 0](%714, %917, %918, %919)\\n  %719 = Reshape(%710, %718)\\n  %720 = Transpose[perm = [0, 2, 1, 3]](%719)\\n  %722_output_quantized = MatMulInteger(%701_quantized, %920_quantized, %701_zero_point, %920_zero_point)\\n  %722_output_quantized_cast_output = Cast[to = 1](%722_output_quantized)\\n  %MatMul_448_quant_scales_mul:0 = Mul(%701_scale, %920_scale)\\n  %722 = Mul(%722_output_quantized_cast_output, %MatMul_448_quant_scales_mul:0)\\n  %723 = Add(%722, %distilbert.transformer.layer.5.attention.k_lin.bias)\\n  %727 = Unsqueeze[axes = [0]](%704)\\n  %731 = Concat[axis = 0](%727, %921, %922, %923)\\n  %732 = Reshape(%723, %731)\\n  %734_output_quantized = MatMulInteger(%701_quantized, %924_quantized, %701_zero_point, %924_zero_point)\\n  %734_output_quantized_cast_output = Cast[to = 1](%734_output_quantized)\\n  %MatMul_453_quant_scales_mul:0 = Mul(%701_scale, %924_scale)\\n  %734 = Mul(%734_output_quantized_cast_output, %MatMul_453_quant_scales_mul:0)\\n  %735 = Add(%734, %distilbert.transformer.layer.5.attention.v_lin.bias)\\n  %739 = Unsqueeze[axes = [0]](%704)\\n  %743 = Concat[axis = 0](%739, %925, %926, %927)\\n  %744 = Reshape(%735, %743)\\n  %745 = Transpose[perm = [0, 2, 1, 3]](%744)\\n  %746 = Constant[value = <Scalar Tensor []>]()\\n  %747 = Div(%720, %746)\\n  %748 = Transpose[perm = [0, 2, 3, 1]](%732)\\n  %747_quantized, %747_scale, %747_zero_point = DynamicQuantizeLinear(%747)\\n  %748_quantized, %748_scale, %748_zero_point = DynamicQuantizeLinear(%748)\\n  %749_output_quantized = MatMulInteger(%747_quantized, %748_quantized, %747_zero_point, %748_zero_point)\\n  %749_output_quantized_cast_output = Cast[to = 1](%749_output_quantized)\\n  %MatMul_462_quant_scales_mul:0 = Mul(%747_scale, %748_scale)\\n  %749 = Mul(%749_output_quantized_cast_output, %MatMul_462_quant_scales_mul:0)\\n  %750 = Constant[value = <Scalar Tensor []>]()\\n  %751 = Equal(%attention_mask, %750)\\n  %754 = Unsqueeze[axes = [0]](%704)\\n  %757 = Unsqueeze[axes = [0]](%707)\\n  %758 = Concat[axis = 0](%754, %928, %929, %757)\\n  %759 = Reshape(%751, %758)\\n  %760 = Shape(%749)\\n  %761 = Expand(%759, %760)\\n  %762 = Cast[to = 9](%761)\\n  %763 = Constant[value = <Scalar Tensor []>]()\\n  %764 = Where(%762, %763, %749)\\n  %765 = Softmax[axis = 3](%764)\\n  %765_quantized, %765_scale, %765_zero_point = DynamicQuantizeLinear(%765)\\n  %745_quantized, %745_scale, %745_zero_point = DynamicQuantizeLinear(%745)\\n  %766_output_quantized = MatMulInteger(%765_quantized, %745_quantized, %765_zero_point, %745_zero_point)\\n  %766_output_quantized_cast_output = Cast[to = 1](%766_output_quantized)\\n  %MatMul_475_quant_scales_mul:0 = Mul(%765_scale, %745_scale)\\n  %766 = Mul(%766_output_quantized_cast_output, %MatMul_475_quant_scales_mul:0)\\n  %767 = Transpose[perm = [0, 2, 1, 3]](%766)\\n  %770 = Unsqueeze[axes = [0]](%704)\\n  %773 = Concat[axis = 0](%770, %930, %931)\\n  %774 = Reshape(%767, %773)\\n  %774_quantized, %774_scale, %774_zero_point = DynamicQuantizeLinear(%774)\\n  %776_output_quantized = MatMulInteger(%774_quantized, %932_quantized, %774_zero_point, %932_zero_point)\\n  %776_output_quantized_cast_output = Cast[to = 1](%776_output_quantized)\\n  %MatMul_480_quant_scales_mul:0 = Mul(%774_scale, %932_scale)\\n  %776 = Mul(%776_output_quantized_cast_output, %MatMul_480_quant_scales_mul:0)\\n  %777 = Add(%776, %distilbert.transformer.layer.5.attention.out_lin.bias)\\n  %778 = Add(%777, %701)\\n  %779 = ReduceMean[axes = [-1]](%778)\\n  %780 = Sub(%778, %779)\\n  %781 = Constant[value = <Scalar Tensor []>]()\\n  %782 = Pow(%780, %781)\\n  %783 = ReduceMean[axes = [-1]](%782)\\n  %784 = Constant[value = <Scalar Tensor []>]()\\n  %785 = Add(%783, %784)\\n  %786 = Sqrt(%785)\\n  %787 = Div(%780, %786)\\n  %788 = Mul(%787, %distilbert.transformer.layer.5.sa_layer_norm.weight)\\n  %789 = Add(%788, %distilbert.transformer.layer.5.sa_layer_norm.bias)\\n  %789_quantized, %789_scale, %789_zero_point = DynamicQuantizeLinear(%789)\\n  %791_output_quantized = MatMulInteger(%789_quantized, %933_quantized, %789_zero_point, %933_zero_point)\\n  %791_output_quantized_cast_output = Cast[to = 1](%791_output_quantized)\\n  %MatMul_494_quant_scales_mul:0 = Mul(%789_scale, %933_scale)\\n  %791 = Mul(%791_output_quantized_cast_output, %MatMul_494_quant_scales_mul:0)\\n  %792 = Add(%791, %distilbert.transformer.layer.5.ffn.lin1.bias)\\n  %793 = Constant[value = <Scalar Tensor []>]()\\n  %794 = Div(%792, %793)\\n  %795 = Erf(%794)\\n  %796 = Constant[value = <Scalar Tensor []>]()\\n  %797 = Add(%795, %796)\\n  %798 = Mul(%792, %797)\\n  %799 = Constant[value = <Scalar Tensor []>]()\\n  %800 = Mul(%798, %799)\\n  %800_quantized, %800_scale, %800_zero_point = DynamicQuantizeLinear(%800)\\n  %802_output_quantized = MatMulInteger(%800_quantized, %934_quantized, %800_zero_point, %934_zero_point)\\n  %802_output_quantized_cast_output = Cast[to = 1](%802_output_quantized)\\n  %MatMul_504_quant_scales_mul:0 = Mul(%800_scale, %934_scale)\\n  %802 = Mul(%802_output_quantized_cast_output, %MatMul_504_quant_scales_mul:0)\\n  %803 = Add(%802, %distilbert.transformer.layer.5.ffn.lin2.bias)\\n  %804 = Add(%803, %789)\\n  %805 = ReduceMean[axes = [-1]](%804)\\n  %806 = Sub(%804, %805)\\n  %807 = Constant[value = <Scalar Tensor []>]()\\n  %808 = Pow(%806, %807)\\n  %809 = ReduceMean[axes = [-1]](%808)\\n  %810 = Constant[value = <Scalar Tensor []>]()\\n  %811 = Add(%809, %810)\\n  %812 = Sqrt(%811)\\n  %813 = Div(%806, %812)\\n  %814 = Mul(%813, %distilbert.transformer.layer.5.output_layer_norm.weight)\\n  %815 = Add(%814, %distilbert.transformer.layer.5.output_layer_norm.bias)\\n  %816 = Constant[value = <Scalar Tensor []>]()\\n  %817 = Gather[axis = 1](%815, %816)\\n  %817_quantized, %817_scale, %817_zero_point = DynamicQuantizeLinear(%817)\\n  %818_MatMul_output_quantized = MatMulInteger(%817_quantized, %pre_classifier.weight_quantized, %817_zero_point, %pre_classifier.weight_zero_point)\\n  %818_MatMul_output_quantized_cast_output = Cast[to = 1](%818_MatMul_output_quantized)\\n  %Gemm_520_MatMul_quant_scales_mul:0 = Mul(%817_scale, %pre_classifier.weight_scale)\\n  %818_MatMul = Mul(%818_MatMul_output_quantized_cast_output, %Gemm_520_MatMul_quant_scales_mul:0)\\n  %818 = Add(%818_MatMul, %pre_classifier.bias)\\n  %819 = Relu(%818)\\n  %819_quantized, %819_scale, %819_zero_point = DynamicQuantizeLinear(%819)\\n  %logits_MatMul_output_quantized = MatMulInteger(%819_quantized, %classifier.weight_quantized, %819_zero_point, %classifier.weight_zero_point)\\n  %logits_MatMul_output_quantized_cast_output = Cast[to = 1](%logits_MatMul_output_quantized)\\n  %Gemm_522_MatMul_quant_scales_mul:0 = Mul(%819_scale, %classifier.weight_scale)\\n  %logits_MatMul = Mul(%logits_MatMul_output_quantized_cast_output, %Gemm_522_MatMul_quant_scales_mul:0)\\n  %logits = Add(%logits_MatMul, %classifier.bias)\\n  return %logits\\n}'"
          },
          "metadata": {}
        }
      ],
      "execution_count": 26,
      "metadata": {
        "collapsed": true,
        "jupyter": {
          "source_hidden": false,
          "outputs_hidden": false
        },
        "nteract": {
          "transient": {
            "deleting": false
          }
        },
        "gather": {
          "logged": 1630052833195
        }
      }
    },
    {
      "cell_type": "code",
      "source": [
        "import onnxruntime as ort\r\n",
        "\r\n",
        "# Load the Quantized ONNX Runtime\r\n",
        "ort_session = ort.InferenceSession(\"watchdog_model_quantized_demo.onnx\")"
      ],
      "outputs": [],
      "execution_count": 27,
      "metadata": {
        "collapsed": true,
        "jupyter": {
          "source_hidden": false,
          "outputs_hidden": false
        },
        "nteract": {
          "transient": {
            "deleting": false
          }
        },
        "gather": {
          "logged": 1630052834272
        }
      }
    },
    {
      "cell_type": "code",
      "source": [
        "# Re-load validation data, cannot be in tensor form\r\n",
        "train_inputs, validation_inputs, train_labels, validation_labels = train_test_split(input_ids, labels, \r\n",
        "                                                            random_state=2018, test_size=0.1)\r\n",
        "\r\n",
        "# Do the same for the masks.\r\n",
        "train_masks, validation_masks, _, _ = train_test_split(attention_masks, labels,\r\n",
        "                                             random_state=2018, test_size=0.1)"
      ],
      "outputs": [],
      "execution_count": 28,
      "metadata": {
        "collapsed": true,
        "jupyter": {
          "source_hidden": false,
          "outputs_hidden": false
        },
        "nteract": {
          "transient": {
            "deleting": false
          }
        },
        "gather": {
          "logged": 1630052834464
        }
      }
    },
    {
      "cell_type": "code",
      "source": [
        "# Tracking variables \r\n",
        "predictions , true_labels = [], []\r\n",
        "\r\n",
        "for i in range(len(validation_inputs)):\r\n",
        "\r\n",
        "    cur_input_ids = [validation_inputs[i]]\r\n",
        "    cur_mask = [validation_masks[i]]\r\n",
        "\r\n",
        "    input_dict = {\"input_ids\" : cur_input_ids, \"attention_mask\" : cur_mask}\r\n",
        "\r\n",
        "    outputs = ort_session.run([\"logits\"], input_dict)\r\n",
        "    logits = outputs[0]\r\n",
        "    flat_prediction = np.argmax(logits, axis=1)[0]\r\n",
        "\r\n",
        "    # Store predictions and true labels\r\n",
        "    predictions.append(flat_prediction)\r\n",
        "    true_labels.append(validation_labels[i])"
      ],
      "outputs": [],
      "execution_count": 29,
      "metadata": {
        "collapsed": true,
        "jupyter": {
          "source_hidden": false,
          "outputs_hidden": false
        },
        "nteract": {
          "transient": {
            "deleting": false
          }
        },
        "gather": {
          "logged": 1630052834765
        }
      }
    },
    {
      "cell_type": "code",
      "source": [
        "# Calculate final accuracy and MCC score\r\n",
        "#\r\n",
        "# If following this notebook cell-for-cell, the observed predictive performance will be lower than\r\n",
        "# that of the production model due to the small size of the sample training dataset used for demo purposes.\r\n",
        "#\r\n",
        "# At this cell, the production ONNX model achieves 0.933 MCC and 0.967 accuracy\r\n",
        "\r\n",
        "from sklearn.metrics import matthews_corrcoef\r\n",
        "print('MCC: %.6f' % matthews_corrcoef(true_labels, predictions))\r\n",
        "\r\n",
        "from sklearn.metrics import accuracy_score\r\n",
        "print('Accuracy: %.6f' % accuracy_score(true_labels, predictions))"
      ],
      "outputs": [
        {
          "output_type": "stream",
          "name": "stdout",
          "text": [
            "MCC: 1.000000\n",
            "Accuracy: 1.000000\n"
          ]
        }
      ],
      "execution_count": 30,
      "metadata": {
        "collapsed": true,
        "jupyter": {
          "source_hidden": false,
          "outputs_hidden": false
        },
        "nteract": {
          "transient": {
            "deleting": false
          }
        },
        "gather": {
          "logged": 1630052834970
        }
      }
    },
    {
      "cell_type": "code",
      "source": [],
      "outputs": [],
      "execution_count": null,
      "metadata": {
        "collapsed": true,
        "jupyter": {
          "source_hidden": false,
          "outputs_hidden": false
        },
        "nteract": {
          "transient": {
            "deleting": false
          }
        }
      }
    }
  ],
  "metadata": {
    "kernelspec": {
      "name": "python3-azureml",
      "language": "python",
      "display_name": "Python 3.6 - AzureML"
    },
    "language_info": {
      "name": "python",
      "version": "3.6.9",
      "mimetype": "text/x-python",
      "codemirror_mode": {
        "name": "ipython",
        "version": 3
      },
      "pygments_lexer": "ipython3",
      "nbconvert_exporter": "python",
      "file_extension": ".py"
    },
    "kernel_info": {
      "name": "python3-azureml"
    },
    "microsoft": {
      "host": {
        "AzureML": {
          "notebookHasBeenCompleted": true
        }
      }
    },
    "nteract": {
      "version": "nteract-front-end@1.0.0"
    }
  },
  "nbformat": 4,
  "nbformat_minor": 2
}